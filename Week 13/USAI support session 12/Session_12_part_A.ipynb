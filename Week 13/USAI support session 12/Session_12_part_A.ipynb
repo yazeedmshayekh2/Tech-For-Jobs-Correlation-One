{
  "nbformat": 4,
  "nbformat_minor": 0,
  "metadata": {
    "colab": {
      "provenance": []
    },
    "kernelspec": {
      "name": "python3",
      "display_name": "Python 3"
    },
    "language_info": {
      "name": "python"
    }
  },
  "cells": [
    {
      "cell_type": "markdown",
      "source": [
        "# *Packages in Python*"
      ],
      "metadata": {
        "id": "B2ZNf12_8yMi"
      }
    },
    {
      "cell_type": "markdown",
      "source": [
        "## 1. Introduction to Importing Packages"
      ],
      "metadata": {
        "id": "DLwYJo5D9bTX"
      }
    },
    {
      "cell_type": "markdown",
      "source": [
        "### Why Importing is Essential in Python\n",
        "\n",
        "Python provides a modular approach to programming, allowing developers to use pre-written code in the form of packages and modules. This modularity promotes code reuse, reduces redundancy, and improves maintainability. Importing packages enables access to additional functionality beyond Python's built-in capabilities.\n",
        "\n",
        "### Why Aren't All Packages Imported by Default?\n",
        "\n",
        "Importing all packages by default would significantly increase memory usage and startup time. It would also introduce unnecessary dependencies, making programs inefficient. Python follows a \"lazy loading\" approach, where only the required modules are loaded, optimizing performance and resource usage.\n"
      ],
      "metadata": {
        "id": "VeRqf7hl9t9n"
      }
    },
    {
      "cell_type": "markdown",
      "source": [
        "## 2. The `import` Statement\n",
        "\n"
      ],
      "metadata": {
        "id": "FLLt4g8L-yEH"
      }
    },
    {
      "cell_type": "markdown",
      "source": [
        "### Basic Syntax of `import`\n",
        "\n",
        "Python provides the `import` statement to include external modules into a script. The basic syntax is:\n",
        "\n",
        "```\n",
        "import module_name\n",
        "```\n",
        "\n",
        "### Importing a Single Module\n",
        "A single module can be imported using the import keyword. Example:"
      ],
      "metadata": {
        "id": "dbbF_myf-059"
      }
    },
    {
      "cell_type": "code",
      "execution_count": null,
      "metadata": {
        "colab": {
          "base_uri": "https://localhost:8080/"
        },
        "id": "QeUx-vBL8n0y",
        "outputId": "121db7f1-eb9b-4850-ac0a-deb98e3908c5"
      },
      "outputs": [
        {
          "output_type": "stream",
          "name": "stdout",
          "text": [
            "The square root of 25 is 5.0\n",
            "The sine of 1.5707963267948966 radians is 1.0\n"
          ]
        }
      ],
      "source": [
        "import math\n",
        "\n",
        "# Calculate the square root of a number\n",
        "number = 25\n",
        "square_root = math.sqrt(number)\n",
        "print(f\"The square root of {number} is {square_root}\")\n",
        "\n",
        "# Calculate the sine of an angle (in radians)\n",
        "angle_radians = math.pi / 2  # 90 degrees in radians\n",
        "sine_value = math.sin(angle_radians)\n",
        "print(f\"The sine of {angle_radians} radians is {sine_value}\")"
      ]
    },
    {
      "cell_type": "markdown",
      "source": [
        "Get help on the math module"
      ],
      "metadata": {
        "id": "tjYvUaPf_URd"
      }
    },
    {
      "cell_type": "code",
      "source": [
        "print(help(math.sqrt))"
      ],
      "metadata": {
        "colab": {
          "base_uri": "https://localhost:8080/"
        },
        "collapsed": true,
        "id": "HwyZznxM_YZ8",
        "outputId": "9c2e5799-2c26-4ab0-d928-a58622c53ec1"
      },
      "execution_count": null,
      "outputs": [
        {
          "output_type": "stream",
          "name": "stdout",
          "text": [
            "Help on built-in function sqrt in module math:\n",
            "\n",
            "sqrt(x, /)\n",
            "    Return the square root of x.\n",
            "\n",
            "None\n"
          ]
        }
      ]
    },
    {
      "cell_type": "markdown",
      "source": [
        "### Importing Specific Functions or Classes\n",
        "\n",
        "Instead of importing an entire module, specific functions or classes can be imported using the `from` keyword:"
      ],
      "metadata": {
        "id": "wtYLNYEV_xrC"
      }
    },
    {
      "cell_type": "code",
      "source": [
        "from math import sqrt, pi\n",
        "print(sqrt(25))  # Output: 5.0\n",
        "print(pi)  # Output: 3.141592653589793\n"
      ],
      "metadata": {
        "colab": {
          "base_uri": "https://localhost:8080/"
        },
        "id": "evLKVtEw_2gE",
        "outputId": "ab78bfc8-bd4d-4649-f093-3891670ae315"
      },
      "execution_count": null,
      "outputs": [
        {
          "output_type": "stream",
          "name": "stdout",
          "text": [
            "5.0\n",
            "3.141592653589793\n"
          ]
        }
      ]
    },
    {
      "cell_type": "markdown",
      "source": [
        "### Benefits of Importing Specific Functions\n",
        "\n",
        "- Reduces memory usage by only loading the required functions.\n",
        "- Enhances readability by avoiding unnecessary module prefixes.\n",
        "- Improves performance in large-scale applications."
      ],
      "metadata": {
        "id": "jr4jeVdH_8c8"
      }
    },
    {
      "cell_type": "markdown",
      "source": [
        "### Listing Loaded Modules\n",
        "\n",
        "Python provides a way to check what modules have been loaded using the `sys.modules` dictionary:"
      ],
      "metadata": {
        "id": "8X31-CPyAOm8"
      }
    },
    {
      "cell_type": "code",
      "source": [
        "import sys\n",
        "print(sys.modules.keys())"
      ],
      "metadata": {
        "colab": {
          "base_uri": "https://localhost:8080/"
        },
        "id": "vk8BRJ_3z5Sq",
        "outputId": "4f816a9b-0378-4503-af03-3fcbcc034154"
      },
      "execution_count": null,
      "outputs": [
        {
          "output_type": "stream",
          "name": "stdout",
          "text": [
            "dict_keys(['sys', 'builtins', '_frozen_importlib', '_imp', '_thread', '_warnings', '_weakref', '_io', 'marshal', 'posix', '_frozen_importlib_external', 'time', 'zipimport', '_codecs', 'codecs', 'encodings.aliases', 'encodings', 'encodings.utf_8', '_signal', '_abc', 'abc', 'io', '__main__', 'types', '_operator', 'operator', '_collections_abc', 'itertools', 'keyword', 'reprlib', '_collections', 'collections', '_functools', 'functools', 'enum', '_sre', 're._constants', 're._parser', 're._casefix', 're._compiler', 'copyreg', 're', 'warnings', '_stat', 'stat', 'genericpath', 'posixpath', 'os.path', 'os', '_sitebuiltins', '_distutils_hack', 'importlib._bootstrap', 'importlib._bootstrap_external', 'importlib', 'importlib._abc', 'contextlib', '_weakrefset', 'threading', 'importlib.util', 'importlib.machinery', 'google', 'google.cloud', 'sphinxcontrib', 'sitecustomize', 'site', 'runpy', 'ipykernel._version', '_json', 'json.scanner', 'json.decoder', 'json.encoder', 'json', 'errno', '_locale', 'locale', 'signal', 'fcntl', '_posixsubprocess', 'select', 'collections.abc', 'math', 'selectors', 'subprocess', 'IPython.core', 'IPython.core.getipython', 'IPython.core.release', 'atexit', 'weakref', 'copy', 'fnmatch', 'glob', 'token', 'tokenize', 'linecache', 'textwrap', 'traceback', '_string', 'string', 'logging', 'zlib', '_compression', '_bz2', 'bz2', '_lzma', 'lzma', 'shutil', '_ast', 'ast', '_opcode', 'opcode', 'dis', 'inspect', '_typing', 'typing.io', 'typing.re', 'typing', 'traitlets.utils', 'traitlets.utils.bunch', 'traitlets.utils.descriptions', 'traitlets.utils.getargspec', 'traitlets.utils.importstring', 'traitlets.utils.sentinel', 'traitlets.traitlets', 'traitlets._version', 'traitlets.utils.decorators', 'traitlets', 'dataclasses', 'pprint', '_socket', 'array', 'socket', '_struct', 'struct', '_compat_pickle', '_pickle', 'pickle', '_heapq', 'heapq', '_queue', 'queue', 'logging.handlers', 'socketserver', 'logging.config', 'traitlets.utils.text', 'gettext', 'argparse', 'traitlets.config.loader', 'traitlets.config.configurable', 'traitlets.utils.nested_update', 'traitlets.config.application', 'traitlets.config', '__future__', 'pkgutil', 'platform', 'sysconfig', 'urllib', 'ipaddress', 'urllib.parse', '_sysconfigdata__x86_64-linux-gnu', 'pydoc', 'bdb', 'IPython.utils', 'IPython.utils.ipstruct', 'IPython.utils.coloransi', 'pygments', 'IPython.utils.colorable', 'IPython.utils.PyColorize', 'IPython.utils.encoding', 'IPython.utils.py3compat', 'IPython.core.excolors', 'IPython.testing', 'IPython.testing.skipdoctest', 'cmd', 'codeop', 'code', 'pdb', 'IPython.core.debugger', 'IPython.core.display_trap', '_bisect', 'bisect', '_random', '_sha512', 'random', 'pexpect.exceptions', 'pexpect.utils', 'pexpect.expect', 'termios', 'tty', 'pty', 'resource', 'ptyprocess.util', 'ptyprocess.ptyprocess', 'ptyprocess', 'pexpect.spawnbase', 'pexpect.pty_spawn', 'pexpect.run', 'pexpect', 'shlex', 'IPython.utils._process_common', 'IPython.utils._process_posix', 'IPython.utils.process', 'IPython.utils.decorators', 'IPython.utils.path', 'IPython.utils.data', 'IPython.utils.terminal', 'IPython.core.ultratb', 'IPython.utils._sysinfo', 'IPython.utils.sysinfo', 'IPython.core.crashhandler', 'tempfile', 'IPython.utils.importstring', 'IPython.paths', 'IPython.core.profiledir', 'IPython.core.application', 'IPython.terminal', '_hashlib', '_blake2', 'hashlib', 'IPython.core.compilerop', 'IPython.core.error', 'ntpath', 'pathlib', 'IPython.utils.text', 'IPython.core.magic_arguments', 'getopt', 'binascii', 'mimetypes', 'IPython.core.display', 'IPython.core.page', 'getpass', 'IPython.lib.security', 'IPython.lib', '_datetime', 'datetime', 'IPython.lib.pretty', 'IPython.utils.openpy', 'IPython.utils.dir2', 'IPython.utils.wildcard', 'pygments.lexers._mapping', 'pygments.modeline', '_csv', 'csv', 'email', 'zipfile', 'quopri', 'calendar', 'email._parseaddr', 'base64', 'email.base64mime', 'email.quoprimime', 'email.errors', 'email.encoders', 'email.charset', 'email.utils', 'email.header', 'email._policybase', 'email._encoded_words', 'email.iterators', 'email.message', 'importlib.metadata._functools', 'importlib.metadata._text', 'importlib.metadata._adapters', 'importlib.metadata._meta', 'importlib.metadata._collections', 'importlib.metadata._itertools', 'importlib.resources.abc', 'importlib.resources._adapters', 'importlib.resources._common', 'importlib.resources._legacy', 'importlib.resources', 'importlib.abc', 'importlib.metadata', 'pygments.plugin', 'pygments.util', 'pygments.lexers', 'pygments.filter', 'pygments.token', 'pygments.filters', 'pygments.regexopt', 'pygments.lexer', 'pygments.unistring', 'pygments.lexers.python', 'pygments.formatters._mapping', 'pygments.formatters', 'pygments.styles._mapping', 'pygments.styles', 'pygments.formatter', 'pygments.formatters.html', 'IPython.core.oinspect', 'IPython.core.inputtransformer2', 'decorator', 'IPython.core.magic', 'pickleshare', 'IPython.core.autocall', 'IPython.core.macro', 'IPython.core.splitinput', 'IPython.core.prefilter', 'IPython.core.alias', 'IPython.core.builtin_trap', 'backcall.backcall', 'backcall', 'IPython.core.events', 'IPython.core.displayhook', 'IPython.core.displaypub', 'IPython.core.extensions', 'IPython.utils.sentinel', 'IPython.core.formatters', '_sqlite3', 'sqlite3.dbapi2', 'sqlite3', 'IPython.core.history', 'IPython.core.logger', 'IPython.core.payload', 'IPython.core.usage', 'html.entities', 'html', 'IPython.lib.display', 'IPython.display', 'IPython.utils.capture', 'IPython.utils.io', 'IPython.core.hooks', 'IPython.utils.strdispatch', 'IPython.utils.syspathcontext', 'IPython.utils.tempdir', 'IPython.utils.contexts', 'concurrent', 'concurrent.futures._base', 'concurrent.futures', '_ssl', 'ssl', 'asyncio.constants', 'asyncio.coroutines', '_contextvars', 'contextvars', 'asyncio.format_helpers', 'asyncio.base_futures', 'asyncio.exceptions', 'asyncio.base_tasks', '_asyncio', 'asyncio.events', 'asyncio.futures', 'asyncio.protocols', 'asyncio.transports', 'asyncio.log', 'asyncio.sslproto', 'asyncio.mixins', 'asyncio.tasks', 'asyncio.locks', 'asyncio.staggered', 'asyncio.trsock', 'asyncio.base_events', 'asyncio.runners', 'asyncio.queues', 'asyncio.streams', 'asyncio.subprocess', 'asyncio.taskgroups', 'asyncio.timeouts', 'asyncio.threads', 'asyncio.base_subprocess', 'asyncio.selector_events', 'asyncio.unix_events', 'asyncio', 'IPython.core.async_helpers', 'IPython.core.interactiveshell', 'prompt_toolkit.application.current', 'prompt_toolkit.eventloop.utils', 'prompt_toolkit.eventloop.async_generator', 'prompt_toolkit.eventloop.inputhook', 'prompt_toolkit.eventloop', 'prompt_toolkit.application.run_in_terminal', 'prompt_toolkit.selection', 'prompt_toolkit.clipboard.base', 'prompt_toolkit.clipboard.in_memory', 'prompt_toolkit.clipboard', 'prompt_toolkit.cache', 'prompt_toolkit.enums', 'prompt_toolkit.filters.base', 'prompt_toolkit.filters.app', 'prompt_toolkit.filters.cli', 'prompt_toolkit.filters.utils', 'prompt_toolkit.filters', 'prompt_toolkit.document', 'prompt_toolkit.auto_suggest', 'prompt_toolkit.keys', 'prompt_toolkit.key_binding.key_bindings', 'wcwidth.table_vs16', 'wcwidth.table_wide', 'wcwidth.table_zero', 'wcwidth.unicode_versions', 'wcwidth.wcwidth', 'wcwidth', 'prompt_toolkit.utils', 'prompt_toolkit.key_binding.key_processor', 'prompt_toolkit.key_binding', 'prompt_toolkit.key_binding.vi_state', 'prompt_toolkit.cursor_shapes', 'prompt_toolkit.data_structures', 'prompt_toolkit.styles.base', 'prompt_toolkit.styles.named_colors', 'prompt_toolkit.styles.style', 'prompt_toolkit.styles.defaults', 'prompt_toolkit.styles.pygments', 'colorsys', 'prompt_toolkit.styles.style_transformation', 'prompt_toolkit.styles', 'prompt_toolkit.output.color_depth', 'prompt_toolkit.output.base', 'prompt_toolkit.output.flush_stdout', 'prompt_toolkit.output.plain_text', 'prompt_toolkit.output.defaults', 'prompt_toolkit.output', 'prompt_toolkit.output.vt100', 'prompt_toolkit.mouse_events', 'prompt_toolkit.formatted_text.base', 'prompt_toolkit.formatted_text.ansi', 'xml', 'xml.dom.domreg', 'xml.dom', 'xml.dom.minicompat', 'xml.dom.NodeFilter', 'xml.dom.xmlbuilder', 'xml.dom.minidom', 'prompt_toolkit.formatted_text.html', 'prompt_toolkit.formatted_text.pygments', 'prompt_toolkit.formatted_text.utils', 'prompt_toolkit.formatted_text', 'prompt_toolkit.completion.base', 'prompt_toolkit.completion.deduplicate', 'prompt_toolkit.completion.filesystem', 'prompt_toolkit.completion.word_completer', 'prompt_toolkit.completion.fuzzy_completer', 'prompt_toolkit.completion.nested', 'prompt_toolkit.completion', 'prompt_toolkit.history', 'prompt_toolkit.search', 'prompt_toolkit.validation', 'prompt_toolkit.buffer', 'prompt_toolkit.input.base', 'prompt_toolkit.input.defaults', 'prompt_toolkit.input', 'prompt_toolkit.input.typeahead', 'prompt_toolkit.key_binding.bindings', 'prompt_toolkit.key_binding.bindings.scroll', 'prompt_toolkit.key_binding.bindings.page_navigation', 'prompt_toolkit.lexers.base', 'prompt_toolkit.lexers.pygments', 'prompt_toolkit.lexers', 'prompt_toolkit.layout.utils', 'prompt_toolkit.layout.processors', 'prompt_toolkit.layout.controls', 'prompt_toolkit.layout.dimension', 'prompt_toolkit.layout.margins', 'prompt_toolkit.layout.mouse_handlers', 'prompt_toolkit.layout.screen', 'prompt_toolkit.layout.containers', 'prompt_toolkit.layout.layout', 'prompt_toolkit.layout.menus', 'prompt_toolkit.layout.scrollable_pane', 'prompt_toolkit.layout', 'prompt_toolkit.key_binding.bindings.completion', 'prompt_toolkit.key_binding.bindings.named_commands', 'prompt_toolkit.key_binding.bindings.basic', 'prompt_toolkit.key_binding.bindings.cpr', 'prompt_toolkit.key_binding.bindings.emacs', 'prompt_toolkit.key_binding.bindings.mouse', 'prompt_toolkit.input.ansi_escape_sequences', 'prompt_toolkit.input.vt100_parser', 'prompt_toolkit.key_binding.digraphs', 'prompt_toolkit.key_binding.bindings.vi', 'prompt_toolkit.key_binding.defaults', 'prompt_toolkit.key_binding.emacs_state', 'prompt_toolkit.layout.dummy', 'prompt_toolkit.renderer', 'prompt_toolkit.application.application', 'prompt_toolkit.application.dummy', 'prompt_toolkit.application', 'prompt_toolkit.key_binding.bindings.focus', 'prompt_toolkit.widgets.toolbars', 'prompt_toolkit.widgets.base', 'prompt_toolkit.widgets.dialogs', 'prompt_toolkit.widgets.menus', 'prompt_toolkit.widgets', 'prompt_toolkit.shortcuts.dialogs', 'xml.parsers', 'pyexpat.errors', 'pyexpat.model', 'pyexpat', 'xml.parsers.expat.model', 'xml.parsers.expat.errors', 'xml.parsers.expat', 'xml.dom.expatbuilder', 'prompt_toolkit.shortcuts.progress_bar.formatters', 'prompt_toolkit.shortcuts.progress_bar.base', 'prompt_toolkit.shortcuts.progress_bar', 'prompt_toolkit.key_binding.bindings.auto_suggest', 'prompt_toolkit.key_binding.bindings.open_in_editor', 'prompt_toolkit.shortcuts.prompt', 'prompt_toolkit.shortcuts.utils', 'prompt_toolkit.shortcuts', 'prompt_toolkit', 'prompt_toolkit.patch_stdout', 'pygments.style', 'unicodedata', 'IPython.core.latex_symbols', 'IPython.utils.generics', 'IPython.core.completer', 'IPython.terminal.ptutils', 'IPython.terminal.shortcuts', 'concurrent.futures.thread', 'IPython.terminal.debugger', 'IPython.lib.clipboard', 'IPython.terminal.magics', 'IPython.terminal.pt_inputhooks', 'IPython.terminal.prompts', 'IPython.terminal.interactiveshell', 'IPython.core.magics.auto', 'IPython.core.magics.basic', 'http', 'email.feedparser', 'email.parser', 'http.client', 'urllib.response', 'urllib.error', 'urllib.request', 'IPython.core.magics.code', 'IPython.core.magics.config', 'IPython.core.magics.display', 'gc', 'timeit', '_lsprof', 'profile', 'cProfile', 'pstats', 'IPython.utils.module_paths', 'IPython.utils.timing', 'IPython.core.magics.execution', 'IPython.core.magics.extension', 'IPython.core.magics.history', 'IPython.core.magics.logging', 'IPython.core.magics.namespace', 'IPython.core.magics.osm', 'IPython.core.magics.packaging', 'IPython.core.pylabtools', 'IPython.core.magics.pylab', 'IPython.lib.backgroundjobs', 'IPython.core.magics.script', 'IPython.core.magics', 'IPython.core.shellapp', 'IPython.extensions', 'IPython.extensions.storemagic', 'IPython.terminal.ipapp', 'IPython.terminal.embed', 'IPython.utils.frame', 'IPython', 'ipython_genutils._version', 'ipython_genutils', 'ipython_genutils.encoding', 'ipython_genutils.py3compat', 'ipython_genutils.path', 'jupyter_client._version', '_ctypes', 'ctypes._endian', 'ctypes', 'zmq.backend.select', '_cython_0_29_32', 'cython_runtime', 'zmq.error', 'zmq.backend.cython.context', 'zmq.backend.cython.message', 'zmq.constants', 'zmq.backend.cython.socket', 'zmq.backend.cython._device', 'zmq.backend.cython._poll', 'zmq.backend.cython._proxy_steerable', 'zmq.backend.cython._version', 'zmq.backend.cython.error', 'zmq.backend.cython.utils', 'zmq.backend.cython', 'zmq.backend', 'zmq.sugar.attrsettr', 'zmq._typing', 'zmq.utils', 'zmq.utils.jsonapi', 'zmq.sugar.poll', 'zmq.sugar.socket', 'zmq.sugar.context', 'zmq.sugar.frame', 'zmq.sugar.tracker', 'zmq.sugar.version', 'zmq.sugar.stopwatch', 'zmq.sugar', 'zmq', 'jupyter_client.localinterfaces', 'jupyter_core.version', 'jupyter_core', 'platformdirs.api', 'platformdirs.version', 'configparser', 'platformdirs.unix', 'platformdirs', 'jupyter_core.utils', 'jupyter_core.paths', 'jupyter_client.utils', 'jupyter_client.connect', 'traitlets.log', 'jupyter_client.launcher', 'jupyter_client.channelsabc', 'jupyter_client.channels', 'jupyter_client.clientabc', 'jupyter_client.client', 'jupyter_client.kernelspec', 'jupyter_client.managerabc', 'jupyter_client.manager', 'jupyter_client.blocking.channels', 'jupyter_client.blocking.client', 'jupyter_client.blocking', 'zmq._future', 'zmq.asyncio', 'jupyter_client.asynchronous.channels', 'jupyter_client.asynchronous.client', 'jupyter_client.asynchronous', '_uuid', 'uuid', 'jupyter_client.multikernelmanager', 'jupyter_client', 'ipykernel.connect', 'ipykernel', 'tornado', 'numbers', 'tornado.speedups', 'tornado.util', 'tornado.escape', '_curses', 'curses', 'tornado.log', 'tornado.concurrent', 'tornado.ioloop', 'tornado.platform', 'tornado.gen', 'tornado.platform.asyncio', 'zmq.eventloop.ioloop', 'zmq.eventloop', 'zmq.eventloop.zmqstream', 'ipython_genutils.importstring', 'imp', 'hmac', 'dateutil._version', 'dateutil', 'six', '_decimal', 'decimal', 'dateutil._common', 'dateutil.relativedelta', 'six.moves', 'dateutil.tz._common', 'dateutil.tz._factories', 'dateutil.tz.tz', 'dateutil.tz', 'dateutil.parser._parser', 'dateutil.parser.isoparser', 'dateutil.parser', '_strptime', 'jupyter_client.jsonutil', 'jupyter_client.adapter', 'jupyter_client.session', 'ipykernel.iostream', 'ipykernel.heartbeat', 'IPython.utils.tokenutil', 'tornado.locks', 'tornado.queues', 'ipykernel.jsonutil', 'ipykernel.kernelbase', 'ipykernel.comm.comm', 'ipykernel.comm.manager', 'ipykernel.comm', 'IPython.core.payloadpage', 'ipykernel.displayhook', 'ipyparallel._version', 'ipyparallel.client', 'ipyparallel.error', 'zmq.log', 'zmq.log.handlers', 'ipyparallel.util', 'ipyparallel.client.futures', 'ipyparallel.client.asyncresult', 'ipyparallel.serialize.codeutil', 'ipyparallel.serialize.canning', 'ipyparallel.serialize.serialize', 'ipyparallel.serialize', 'secrets', 'ipyparallel.controller', 'ipyparallel.controller.dependency', 'ipyparallel.client.map', 'ipyparallel.client.remotefunction', 'ipyparallel.client.view', 'ipyparallel.client.client', 'multiprocessing.process', 'multiprocessing.reduction', 'multiprocessing.context', '__mp_main__', 'multiprocessing', 'ipyparallel._async', 'entrypoints', 'ipyparallel.traitlets', 'pwd', 'psutil._common', 'psutil._compat', 'psutil._psposix', 'psutil._psutil_linux', 'psutil._psutil_posix', 'psutil._pslinux', 'psutil', 'xml.etree', 'xml.etree.ElementPath', 'ipyparallel.cluster._winhpcjob', 'ipyparallel.cluster.launcher', 'ipyparallel.cluster.cluster', 'ipyparallel.cluster', 'ipyparallel', 'ipyparallel.engine', 'ipyparallel.engine.datapub', 'ipykernel.zmqshell', 'setuptools._distutils', 'jaraco', 'more_itertools.recipes', 'more_itertools.more', 'more_itertools', 'jaraco.functools', 'distutils.compat.py38', 'distutils.compat', 'distutils.compat.py39', 'distutils.errors', 'distutils._modified', 'distutils._log', 'distutils.file_util', 'distutils.dir_util', 'distutils.debug', 'distutils.spawn', 'grp', 'distutils.archive_util', 'distutils.util', 'distutils.cmd', 'packaging', 'packaging._elffile', 'packaging._manylinux', 'packaging._musllinux', 'packaging.tags', 'packaging._structures', 'packaging.version', 'packaging.utils', 'distutils.fancy_getopt', 'distutils.dist', 'distutils.extension', 'distutils.core', '_distutils_hack.override', 'distutils.filelist', 'setuptools.monkey', 'distutils.log', 'setuptools.logging', 'setuptools._imp', 'setuptools.depends', 'setuptools._path', 'setuptools.discovery', 'packaging.specifiers', 'packaging._tokenizer', 'packaging._parser', 'packaging.markers', 'backports', 'backports.tarfile.compat', 'backports.tarfile.compat.py38', 'backports.tarfile', 'jaraco.context', 'importlib.resources._itertools', 'importlib.resources.readers', 'importlib.readers', 'jaraco.text', 'setuptools._importlib', 'setuptools._itertools', 'setuptools.errors', 'setuptools._entry_points', 'packaging.requirements', 'setuptools._reqs', 'distutils.command', 'distutils.command.bdist', 'setuptools.command', 'setuptools.warnings', 'setuptools.config.expand', 'setuptools.config.setupcfg', 'setuptools.config', 'email._header_value_parser', 'email.headerregistry', 'setuptools.extension', 'setuptools.config._apply_pyprojecttoml', 'setuptools.config.pyprojecttoml', 'setuptools.dist', 'setuptools.version', 'setuptools._normalization', 'setuptools._core_metadata', 'setuptools', 'distutils', 'distutils.version', 'ipykernel.eventloops', 'ipykernel.ipkernel', 'ipykernel.parentpoller', 'ipykernel.kernelapp', 'google.colab._import_hooks._altair', 'google.colab._import_hooks._bokeh', 'google.colab._import_hooks._client_info', 'google.colab._import_hooks._cv2', 'google.colab._import_hooks._generativeai', 'google.colab._import_hooks._pydrive', 'google.colab._import_hooks._pydrive2', 'google.colab._import_hooks', 'google.colab._import_magics', 'google.colab._installation_commands', 'google.colab._interactive_table_helper', 'google.colab._generate_with_variable', 'google.colab._quickchart', 'google.colab._ipython', 'google.colab.errors', 'google.colab._message', 'google.colab.output._js', 'google.colab.output._publish', 'google.colab.output._js_builder', 'google.colab.output._area', 'google.colab.output._tags', 'google.colab.output._util', 'google.colab.output._widgets', 'google.colab.output', 'google.colab._quickchart_hint_button', 'google.colab._quickchart_lib', 'google.colab.autoviz', 'google.colab.widgets._widget', 'google.colab.widgets._grid', 'google.colab.widgets._tabbar', 'google.colab.widgets', 'IPython.utils.traitlets', 'google.colab.data_table', 'google.colab._interactive_table_hint_button', 'google.colab._inspector', 'numpy._utils._convertions', 'numpy._utils', 'numpy._globals', 'numpy.exceptions', 'numpy.version', 'numpy._distributor_init', 'numpy._utils._inspect', 'numpy.core._exceptions', 'numpy.dtypes', 'numpy.core._multiarray_umath', 'numpy.core.overrides', 'numpy.core.multiarray', 'numpy.core.umath', 'numpy.core._string_helpers', 'numpy.compat.py3k', 'numpy.compat', 'numpy.core._dtype', 'numpy.core._type_aliases', 'numpy.core.numerictypes', 'numpy.core._ufunc_config', 'numpy.core._methods', 'numpy.core.fromnumeric', 'numpy.core.shape_base', 'numpy.core.arrayprint', 'numpy.core._asarray', 'numpy.core.numeric', 'numpy.core.defchararray', 'numpy.core.records', 'numpy.core.memmap', 'numpy.core.function_base', 'numpy.core._machar', 'numpy.core.getlimits', 'numpy.core.einsumfunc', 'numpy.core._multiarray_tests', 'numpy.core._add_newdocs', 'numpy.core._add_newdocs_scalars', 'numpy.core._dtype_ctypes', 'numpy.core._internal', 'numpy._pytesttester', 'numpy.core', 'numpy.__config__', 'numpy.lib.mixins', 'numpy.lib.ufunclike', 'numpy.lib.type_check', 'numpy.lib.scimath', 'numpy.lib.stride_tricks', 'numpy.lib.twodim_base', 'numpy.linalg._umath_linalg', 'numpy._typing._nested_sequence', 'numpy._typing._nbit', 'numpy._typing._char_codes', 'numpy._typing._scalars', 'numpy._typing._shape', 'numpy._typing._dtype_like', 'numpy._typing._array_like', 'numpy._typing', 'numpy.linalg.linalg', 'numpy.linalg', 'numpy.matrixlib.defmatrix', 'numpy.matrixlib', 'numpy.lib.histograms', 'numpy.lib.function_base', 'numpy.lib.index_tricks', 'numpy.lib.nanfunctions', 'numpy.lib.shape_base', 'numpy.lib.polynomial', 'numpy.lib.utils', 'numpy.lib.arraysetops', 'numpy.lib.format', 'numpy.lib._datasource', 'numpy.lib._iotools', 'numpy.lib.npyio', 'numpy.lib.arrayterator', 'numpy.lib.arraypad', 'numpy.lib._version', 'numpy.lib', 'numpy.fft._pocketfft_internal', 'numpy.fft._pocketfft', 'numpy.fft.helper', 'numpy.fft', 'numpy.polynomial.polyutils', 'numpy.polynomial._polybase', 'numpy.polynomial.polynomial', 'numpy.polynomial.chebyshev', 'numpy.polynomial.legendre', 'numpy.polynomial.hermite', 'numpy.polynomial.hermite_e', 'numpy.polynomial.laguerre', 'numpy.polynomial', '_cython_3_0_8', 'numpy.random._common', 'numpy.random.bit_generator', 'numpy.random._bounded_integers', 'numpy.random._mt19937', 'numpy.random.mtrand', 'numpy.random._philox', 'numpy.random._pcg64', 'numpy.random._sfc64', 'numpy.random._generator', 'numpy.random._pickle', 'numpy.random', 'numpy.ctypeslib', 'numpy.ma.core', 'numpy.ma.extras', 'numpy.ma', 'numpy', 'PIL._version', 'PIL', 'google.colab._reprs', 'google.colab._shell_customizations', 'google.colab._system_commands', 'google.colab._tensorflow_magics', 'http.server', 'google.colab.files', 'google.colab.auth', 'pexpect.popen_spawn', 'google.colab.drive', 'gzip', 'socks', 'pyparsing.util', 'pyparsing.unicode', 'pyparsing.exceptions', 'pyparsing.results', 'pyparsing.actions', 'pyparsing.core', 'pyparsing.helpers', 'pyparsing.testing', 'pyparsing.common', 'pyparsing', 'httplib2.error', 'httplib2.auth', 'httplib2.iri2uri', 'certifi.core', 'certifi', 'httplib2.certs', 'httplib2', 'google.colab.runtime', 'google.colab.snippets', 'google.colab', 'google.colab._history', 'google.colab._pip', 'IPython.core.inputtransformer', 'IPython.core.inputsplitter', 'google.colab._shell', 'google.colab._kernel', 'faulthandler', 'IPython.core.completerlib', 'matplotlib._api.deprecation', 'matplotlib._api', 'matplotlib._version', 'matplotlib._c_internal_utils', 'matplotlib.cbook', 'matplotlib._docstring', 'matplotlib.backends.registry', 'matplotlib.backends', 'PIL.ExifTags', 'PIL._deprecate', 'PIL.ImageMode', 'PIL.TiffTags', 'PIL._binary', 'PIL._typing', 'PIL._util', 'defusedxml.common', 'defusedxml', '_elementtree', 'xml.etree.ElementTree', 'defusedxml.ElementTree', 'PIL._imaging', 'PIL.Image', 'PIL.ImageChops', 'PIL.ImageFile', 'PIL.GimpGradientFile', 'PIL.GimpPaletteFile', 'PIL.ImageColor', 'PIL.PaletteFile', 'PIL.ImagePalette', 'PIL.ImageSequence', 'PIL.PngImagePlugin', 'matplotlib._cm', 'matplotlib._path', 'matplotlib.bezier', 'matplotlib.path', 'matplotlib.transforms', 'matplotlib.ticker', 'matplotlib.scale', 'matplotlib._image', 'matplotlib._color_data', 'matplotlib.colors', 'matplotlib._fontconfig_pattern', 'matplotlib._enums', 'cycler', 'matplotlib.rcsetup', 'matplotlib.ft2font', 'kiwisolver.exceptions', 'kiwisolver._cext', 'kiwisolver', 'matplotlib.artist', 'matplotlib.colorizer', 'matplotlib._cm_listed', 'matplotlib._cm_multivar', 'matplotlib._cm_bivar', 'matplotlib.cm', 'matplotlib', 'matplotlib._pylab_helpers', 'matplotlib.backend_tools', 'plistlib', 'matplotlib._mathtext_data', 'matplotlib._afm', 'matplotlib.font_manager', 'matplotlib.hatch', 'matplotlib.markers', 'matplotlib.lines', 'matplotlib.patches', 'matplotlib._text_helpers', 'matplotlib.dviread', 'matplotlib._mathtext', 'matplotlib.mathtext', 'matplotlib.texmanager', 'matplotlib.textpath', 'matplotlib.text', 'matplotlib._tight_bbox', 'matplotlib.collections', 'matplotlib.widgets', 'matplotlib.backend_managers', 'matplotlib._layoutgrid', 'matplotlib._constrained_layout', 'matplotlib._tight_layout', 'matplotlib.layout_engine', 'matplotlib.backend_bases', 'matplotlib.backends._backend_agg', 'matplotlib.backends.backend_agg', 'matplotlib._blocking_input', 'matplotlib.image', 'matplotlib.offsetbox', 'matplotlib.units', 'matplotlib.axis', 'matplotlib.gridspec', 'matplotlib.spines', 'matplotlib.table', 'matplotlib.axes._base', 'matplotlib.category', 'matplotlib.contour', 'dateutil.rrule', 'matplotlib.dates', 'matplotlib.inset', 'matplotlib.container', 'matplotlib.legend_handler', 'matplotlib.legend', 'matplotlib.mlab', 'matplotlib.quiver', 'matplotlib.stackplot', 'matplotlib.streamplot', 'matplotlib.tri._triangulation', 'matplotlib.tri._tricontour', 'matplotlib.tri._trifinder', 'matplotlib.tri._tritools', 'matplotlib.tri._triinterpolate', 'matplotlib.tri._tripcolor', 'matplotlib.tri._triplot', 'matplotlib.tri._trirefine', 'matplotlib.tri', 'matplotlib.axes._secondary_axes', 'matplotlib.axes._axes', 'matplotlib.axes', 'matplotlib.projections.geo', 'matplotlib.projections.polar', 'mpl_toolkits', 'mpl_toolkits.mplot3d.proj3d', 'mpl_toolkits.mplot3d.art3d', 'mpl_toolkits.mplot3d.axis3d', 'mpl_toolkits.mplot3d.axes3d', 'mpl_toolkits.mplot3d', 'matplotlib.projections', 'matplotlib.colorbar', 'matplotlib.figure', 'matplotlib_inline.config', 'matplotlib_inline.backend_inline', 'matplotlib_inline', 'matplotlib.style.core', 'matplotlib.style', 'matplotlib.pyplot', 'storemagic', 'debugpy._version', 'debugpy.public_api', 'debugpy', 'google.colab._debugpy_repr', 'google.colab._variable_inspector', 'portpicker', 'google.colab._debugpy', 'debugpy._vendored._util', 'debugpy._vendored', '_pydevd_bundle', 'encodings.ascii', 'encodings.latin_1', 'stringprep', 'encodings.idna', '_pydevd_bundle.pydevd_vm_type', '_pydev_bundle', 'xmlrpc', 'xmlrpc.client', 'xmlrpc.server', '_pydev_bundle._pydev_saved_modules', '_pydevd_bundle.pydevd_constants', '_pydev_runfiles', '_pydevd_frame_eval', 'pydev_ipython', 'pydevd_plugins', '_pydev_bundle.pydev_log', '_pydev_bundle._pydev_filesystem_encoding', '_pydevd_bundle.pydevd_comm_constants', 'pydevd_file_utils', '_pydev_bundle._pydev_execfile', '_pydevd_bundle.pydevd_exec2', '_pydev_bundle.pydev_imports', '_pydev_bundle.pydev_is_thread_alive', '_pydev_bundle.pydev_override', 'pydevd_plugins.extensions', '_pydevd_bundle.pydevd_extension_utils', '_pydevd_bundle.pydevd_frame_utils', '_pydevd_bundle.pydevd_filtering', '_pydevd_bundle.pydevd_io', '_pydevd_bundle.pydevd_defaults', '_pydevd_bundle.pydevd_utils', '_pydevd_bundle.pydevd_runpy', '_pydev_bundle._pydev_tipper_common', '_pydev_bundle._pydev_imports_tipper', '_pydev_bundle._pydev_calltip_util', '_pydevd_bundle.pydevd_safe_repr', '_pydevd_bundle.pydevd_resolver', '_pydevd_bundle.pydevd_extension_api', '_pydevd_bundle.pydevd_xml', '_pydevd_bundle.pydevd_dont_trace', '_pydevd_frame_eval.vendored', '_pydevd_frame_eval.vendored.bytecode.flags', '_pydevd_frame_eval.vendored.bytecode.instr', '_pydevd_frame_eval.vendored.bytecode.bytecode', '_pydevd_frame_eval.vendored.bytecode.concrete', '_pydevd_frame_eval.vendored.bytecode.cfg', '_pydevd_frame_eval.vendored.bytecode', '_pydevd_bundle.pydevd_bytecode_utils', '_pydevd_bundle.pydevd_cython', '_pydevd_bundle.pydevd_cython_wrapper', '_pydevd_bundle.pydevd_additional_thread_info', '_pydevd_bundle.pydevd_thread_lifecycle', '_pydevd_bundle.pydevd_save_locals', '_pydev_bundle.pydev_monkey', 'pydevd_tracing', '_pydevd_bundle.pydevd_collect_bytecode_info', '_pydevd_bundle.pydevd_daemon_thread', '_pydevd_bundle.pydevd_timeout', '_pydevd_bundle.pydevd_vars', '_pydev_bundle.pydev_console_utils', '_pydevd_bundle.pydevd_import_class', '_pydevd_bundle.pydevd_breakpoints', '_pydevd_bundle.pydevd_custom_frames', '_pydevd_bundle.pydevd_dont_trace_files', '_pydevd_bundle.pydevd_net_command', '_pydevd_bundle.pydevconsole_code', '_pydev_bundle.pydev_umd', 'pydevconsole', '_pydev_bundle._pydev_completer', '_pydevd_bundle.pydevd_net_command_factory_xml', '_pydevd_bundle.pydevd_frame', '_pydevd_bundle.pydevd_additional_thread_info_regular', '_pydevd_bundle.pydevd_trace_dispatch', '_pydevd_frame_eval.pydevd_frame_eval_main', '_pydevd_bundle.pydevd_source_mapping', '_pydevd_bundle.pydevd_concurrency_analyser', '_pydevd_bundle.pydevd_concurrency_analyser.pydevd_thread_wrappers', '_pydevd_bundle.pydevd_concurrency_analyser.pydevd_concurrency_logger', '_pydevd_bundle._debug_adapter', '_pydevd_bundle._debug_adapter.pydevd_schema_log', '_pydevd_bundle._debug_adapter.pydevd_base_schema', '_pydevd_bundle._debug_adapter.pydevd_schema', '_pydevd_bundle.pydevd_reload', '_pydev_bundle.fsnotify', '_pydevd_bundle.pydevd_console', '_pydevd_bundle.pydevd_comm', '_pydevd_bundle.pydevd_net_command_factory_json', '_pydevd_bundle.pydevd_api', '_pydevd_bundle.pydevd_json_debug_options', '_pydevd_bundle.pydevd_process_net_command_json', '_pydevd_bundle.pydevd_traceproperty', '_pydevd_bundle.pydevd_process_net_command', '_pydevd_bundle.pydevd_suspended_frames', '_pydevd_bundle.pydevd_trace_api', 'pydevd_plugins.pydevd_line_validation', 'pydevd_plugins.django_debug', 'pydevd_plugins.jinja2_debug', '_pydevd_bundle.pydevd_plugin_utils', 'pydevd', 'debugpy._vendored.force_pydevd', 'debugpy.server', 'debugpy.adapter', 'debugpy.common', 'debugpy.common.json', 'debugpy.common.timestamp', 'debugpy.common.util', 'debugpy.common.log', 'debugpy.common.sockets', 'debugpy.server.api', 'importlib_metadata._meta', 'importlib_metadata._collections', 'importlib_metadata._compat', 'importlib_metadata._functools', 'importlib_metadata._itertools', 'importlib_metadata.compat', 'importlib_metadata.compat.py39', 'importlib_metadata.compat.py311', 'importlib_metadata', 'zipp.compat', 'zipp.compat.py310', 'zipp.glob', 'zipp._functools', 'zipp', 'zipp.compat.overlay.zipfile', 'zipp.compat.overlay', 'importlib_metadata._text', 'importlib_metadata._adapters', 'encodings.hex_codec'])\n"
          ]
        }
      ]
    },
    {
      "cell_type": "code",
      "source": [
        "import sys\n",
        "before_import = set(sys.modules.keys())\n",
        "\n",
        "import numpy as np\n",
        "import pandas as pd\n",
        "\n",
        "after_import = set(sys.modules.keys())\n",
        "\n",
        "loaded_modules = after_import - before_import\n",
        "print(\"Loaded modules:\", loaded_modules)\n",
        "\n"
      ],
      "metadata": {
        "colab": {
          "base_uri": "https://localhost:8080/"
        },
        "id": "04BkWV4rAU7E",
        "outputId": "8c2c6f06-429f-4172-bedc-5203bc07b46c"
      },
      "execution_count": null,
      "outputs": [
        {
          "output_type": "stream",
          "name": "stdout",
          "text": [
            "Loaded modules: {'pandas.core.array_algos.masked_accumulations', 'pandas.io.stata', 'pandas._config.localization', 'pandas.core.dtypes.astype', 'pandas.tseries.api', 'pandas.core.indexes.interval', 'pandas._libs.tslibs', 'pandas._libs.ops', 'pandas.core.arrays.datetimelike', 'pandas.util._exceptions', 'pandas.core.internals.array_manager', 'pandas._testing', 'pandas._config.config', 'pandas._libs.window.indexers', 'pandas.core.arrays.interval', 'pandas.core.indexing', 'pandas.core.arrays._utils', 'pandas.core.dtypes.generic', 'mmap', 'pandas._libs.tslibs.fields', 'pandas.core.dtypes.inference', 'pytz.tzinfo', 'pandas.core.strings.object_array', 'pandas._libs.arrays', 'bottleneck.benchmark', 'pandas.io.formats.format', 'bottleneck.benchmark.bench', 'pandas.core._numba.executor', 'bottleneck.tests.util', 'pandas._libs', 'pyarrow.ipc', 'pandas.core.arrays', 'pandas._libs.index', 'pandas.io.json', 'pandas.core.reshape.util', 'pandas.plotting', 'pandas.core.groupby.numba_', 'pandas.core.tools.datetimes', 'pandas.core.arrays.string_', 'pandas.core.arrays.sparse', 'pandas._libs.tslibs.np_datetime', 'pandas.core.api', 'pandas.core.arrays._ranges', 'pandas._libs.missing', 'pandas.core.array_algos.transforms', 'pandas.core.indexes.timedeltas', 'pandas._libs.tslibs.offsets', 'pandas.core.window.expanding', 'pandas.tseries', 'pandas._testing.compat', 'pandas.core.util.numba_', 'numexpr', 'pandas.core.arrays.arrow.accessors', 'pytz.exceptions', 'pandas.core.strings.base', 'pandas.io.common', '_cython_3_0_5', 'pandas.core.shared_docs', 'pandas.core.computation.expr', 'pandas.core.indexers.objects', 'pandas._testing.contexts', 'pandas.io.xml', 'pandas._libs.ops_dispatch', 'pandas.io.excel', 'pandas.core.reshape.pivot', 'pandas.core.array_algos.datetimelike_accumulations', 'pandas.core.internals.base', 'pandas._libs.pandas_datetime', 'pandas.plotting._core', 'pandas.compat', 'pyarrow.vendored.docscrape', 'pandas.core.groupby.groupby', 'pandas._libs.reshape', 'pandas.io.parsers', 'pandas.io.excel._util', 'cloudpickle.cloudpickle', 'pandas.io.parsers.c_parser_wrapper', 'pandas.core.internals.construction', 'pandas.core.ops.array_ops', 'pandas.io.parsers.python_parser', 'pandas.core.ops.invalid', 'pandas.core.groupby.indexing', 'pandas._libs.pandas_parser', 'pandas._libs.testing', 'pandas.core.array_algos', 'numexpr.expressions', 'pandas._libs.window.aggregations', 'pandas.io.feather_format', 'pandas.core.indexes.api', 'numexpr.necompiler', 'pandas.core.arrays.sparse.accessor', 'pytz.lazy', 'pandas.core.reshape.encoding', 'pandas._libs.tslibs.timezones', 'pandas.core.window.doc', 'pandas.util._print_versions', 'pandas.api', 'pandas._config', 'pandas.io.formats.info', 'pandas.core.internals', 'pandas.core.arraylike', 'pandas.util', 'pandas._libs.json', 'pandas.core.tools.times', 'pandas._libs.join', 'pandas._libs.parsers', 'pandas.compat.numpy', 'pandas.io.parsers.base_parser', 'pandas.core.interchange.utils', 'pandas._libs.tslibs.dtypes', 'pytz.tzfile', 'pandas.core.internals.managers', 'pandas.plotting._misc', 'pandas.io.formats.console', 'pyarrow.types', 'pandas._libs.tslibs.period', 'pandas.io.pytables', 'pandas.core.dtypes.missing', 'tarfile', 'bottleneck._pytesttester', 'pandas.compat._constants', 'pandas.core.groupby.generic', 'pandas.io.parsers.readers', 'pandas.core.arrays.datetimes', 'pandas.core.indexes.period', 'pandas.core.nanops', 'pandas.core.array_algos.masked_reductions', 'pandas.core.window.online', 'zoneinfo', 'pandas._testing._io', 'pandas.core.arrays._mixins', 'pandas._testing._warnings', 'pyarrow._generated_version', 'pandas', 'pandas.io.sas', 'pandas.io.excel._odfreader', 'pandas.io.clipboards', 'pandas.core.interchange.from_dataframe', 'pandas.core.construction', 'bottleneck.move', 'pandas.core.strings', 'pandas.core.ops.common', 'pandas._libs.tslibs.base', 'bottleneck.slow.nonreduce', 'pandas.io.parquet', 'pandas._libs.tslibs.timestamps', 'pandas.core.indexes.multi', 'pandas._libs.interval', 'pandas._libs.tslibs.timedeltas', 'pandas._libs.hashtable', 'pandas.core.computation', 'pandas.core.ops.missing', 'pandas.core.tools.timedeltas', 'pandas.api.interchange', 'cmath', 'pandas.io.excel._base', 'pandas.core.arrays.timedeltas', 'pandas.core.util.hashing', 'pandas.core.reshape', 'pandas.core.computation.api', 'pandas.util.version', 'pandas.core.window.rolling', 'pandas.core.internals.ops', 'pandas._libs.properties', 'pandas.compat.numpy.function', 'pandas._libs.lib', 'pandas.arrays', 'pandas.core.ops.mask_ops', 'pandas._libs.tslibs.ccalendar', 'pandas.core.reshape.api', 'zoneinfo._tzpath', 'pandas.core.config_init', 'pandas.io.sas.sasreader', 'pandas.util._decorators', 'pandas.core.roperator', 'pandas.core.window.common', 'pandas.core.internals.blocks', 'pandas.core.sorting', 'numpy._core', 'pandas.core.reshape.concat', 'pandas.tseries.frequencies', 'pandas.core.dtypes', 'pandas._libs.writers', 'pandas.core.apply', 'pandas.core.ops.docstrings', 'pandas._libs.tslibs.conversion', 'pandas.core.interchange.dataframe_protocol', 'pandas.util._tester', 'pandas.core._numba', 'pandas.core.arrays.numpy_', 'pandas.util._validators', 'pandas.errors', 'pandas.core.base', 'pandas.core.sample', 'pandas._libs.groupby', 'pandas.core.window.numba_', 'pandas.compat._optional', 'pandas.io.excel._xlrd', 'pyarrow.compute', 'bottleneck.slow.move', 'pandas.core.arrays.arrow.array', 'pandas.core.arrays.floating', 'pandas.core.arrays.arrow', 'pyarrow.lib', 'pandas.core.computation.eval', 'numexpr.interpreter', 'pandas.core.computation.align', 'pandas._libs.hashing', 'pandas._testing.asserters', 'pandas.core.indexes.range', 'pandas.core.array_algos.putmask', 'pandas.core.arrays.masked', 'pandas.api.types', 'pandas._libs.tslibs.vectorized', 'pandas._libs.tslibs.nattype', 'bottleneck._version', 'pandas.io.json._table_schema', 'pandas.io.api', 'pandas.core.dtypes.common', 'pandas._libs.tslibs.parsing', 'pandas._libs.internals', 'bottleneck.reduce', 'pandas.core.internals.concat', 'pandas.core.indexes.frozen', 'pandas.core.ops', 'pandas.api.typing', 'pandas._libs.window', 'pandas.io.excel._openpyxl', 'pandas.core.arrays.arrow._arrow_utils', 'bottleneck.nonreduce', 'pandas.core.frame', 'pandas.core.reshape.melt', 'bottleneck.nonreduce_axis', 'pandas.io.html', 'pandas.api.indexers', 'pandas.core.arrays.categorical', 'pandas.core.arrays.boolean', 'pandas._typing', 'pandas.core.tools', 'pandas.core', 'pandas.io.excel._pyxlsb', 'pandas.core.methods.selectn', 'pandas.core.computation.ops', 'pandas.core.arrays._arrow_string_mixins', 'pandas.core.groupby.base', 'pandas.core.computation.scope', 'pandas.core.arrays.string_arrow', 'pandas.core.indexers', 'bottleneck.tests', 'pandas.core.dtypes.base', 'pandas.core.computation.check', 'pandas.core.computation.pytables', 'pandas.io.orc', 'pandas.core.dtypes.concat', 'numexpr.utils', 'pandas._libs.tslib', 'pandas.io.spss', 'pandas.core.indexes.accessors', 'pandas.core.arrays.period', 'pyarrow', 'pandas.io.parsers.arrow_parser_wrapper', 'pandas.core.ops.dispatch', 'pandas.core.window', 'pandas.core.dtypes.dtypes', 'pandas.testing', 'pyarrow._compute_docstrings', 'bottleneck', 'pandas.io.excel._odswriter', 'pandas.io', 'pandas._libs.sparse', 'pandas.io.excel._calamine', 'pandas.core.interchange', 'pandas.core.groupby.grouper', 'bottleneck.slow', 'pandas.core.algorithms', 'bottleneck.slow.reduce', 'pandas.core.methods', 'pyarrow._compute', 'pandas._config.dates', 'cloudpickle', 'pyarrow.util', 'pandas.compat.compressors', 'pandas.core.groupby.categorical', 'bottleneck.benchmark.autotimeit', 'pandas.core.internals.api', 'pandas.core.accessor', 'pandas.core.groupby.ops', 'pandas.core.array_algos.replace', 'numpy._core._multiarray_umath', 'pandas.io.json._normalize', 'pandas.core.arrays.integer', 'pandas.tseries.offsets', 'pandas.core.dtypes.api', 'pandas.core.reshape.tile', 'pandas.io.gbq', 'pandas.core.arrays.numeric', 'pandas.io.json._json', 'pandas.core.missing', 'pandas.io.formats.printing', 'pandas.core.computation.engines', 'pandas.core.common', 'pandas.core.indexes.base', 'pandas.core.strings.accessor', 'bottleneck.slow.nonreduce_axis', '_zoneinfo', 'pandas.core.indexes', 'pandas.io._util', 'pandas.core.flags', 'pandas._libs.algos', 'pandas.core.computation.common', 'zoneinfo._common', 'pandas.core.resample', 'pandas.api.extensions', 'pandas.core.indexes.datetimelike', 'pandas.core.series', 'pandas.core.arrays.base', 'pandas._libs.tslibs.tzconversion', 'pandas.core.indexers.utils', 'pandas.core.methods.describe', 'pandas._libs.indexing', 'pandas.compat.pyarrow', 'pandas.core.reshape.merge', 'pandas._config.display', 'pandas._libs.tslibs.strptime', 'pytz', 'pandas.core.util', 'pandas.io.sql', 'pandas.io.formats', 'pandas.core.computation.parsing', '_cython_3_0_10', 'pandas.core.array_algos.take', 'pandas.core.array_algos.quantile', 'bottleneck.benchmark.bench_detailed', 'pandas.core.tools.numeric', 'pandas.core.generic', 'pandas.core.indexes.datetimes', 'pandas.io.pickle', 'pandas.core.groupby', 'pandas._version_meson', 'pandas.core.dtypes.cast', 'numexpr.version', 'pyarrow.vendored', 'pandas.core.arrays.sparse.array', 'pandas.core.computation.expressions', 'pandas.core.window.ewm', 'pandas.compat.pickle_compat', 'pandas.core.indexes.extension', 'pandas.core.indexes.category', 'pandas.io.excel._xlsxwriter'}\n"
          ]
        }
      ]
    },
    {
      "cell_type": "markdown",
      "source": [
        "### Using Aliases with `as`\n",
        "\n",
        "#### Syntax: `import module as alias`\n",
        "\n",
        "Modules or functions can be given aliases for convenience:"
      ],
      "metadata": {
        "id": "w94xXVhDAr3K"
      }
    },
    {
      "cell_type": "code",
      "source": [
        "import numpy as np\n"
      ],
      "metadata": {
        "id": "lzPaISQ8Ax0j"
      },
      "execution_count": null,
      "outputs": []
    },
    {
      "cell_type": "markdown",
      "source": [
        "### Why and When to Use Aliases\n",
        "\n",
        "- Shorter aliases improve readability and reduce typing effort.\n",
        "- Helpful when working with libraries that have long names.\n",
        "- Avoids naming conflicts between modules."
      ],
      "metadata": {
        "id": "xJPhKN7tC2IR"
      }
    },
    {
      "cell_type": "markdown",
      "source": [
        "## 3. Understanding sys.path and Module Search Paths"
      ],
      "metadata": {
        "id": "syMmla5KDLfw"
      }
    },
    {
      "cell_type": "markdown",
      "source": [
        "### How Python Searches for Modules\n",
        "\n",
        "Python looks for modules in predefined directories, following this sequence:\n",
        "\n",
        "1. The current working directory\n",
        "2. Directories specified in the `PYTHONPATH` environment variable\n",
        "3. Standard library directories\n",
        "4. Installed third-party packages\n",
        "\n",
        "### Using `sys.path` to Check Paths"
      ],
      "metadata": {
        "id": "70kVyhc9DPfo"
      }
    },
    {
      "cell_type": "code",
      "source": [
        "import sys\n",
        "print(sys.path)\n"
      ],
      "metadata": {
        "colab": {
          "base_uri": "https://localhost:8080/"
        },
        "id": "MTwSmPXgDWp0",
        "outputId": "bd729c3d-387d-4942-d2ca-71266bc694af"
      },
      "execution_count": null,
      "outputs": [
        {
          "output_type": "stream",
          "name": "stdout",
          "text": [
            "['/content', '/env/python', '/usr/lib/python311.zip', '/usr/lib/python3.11', '/usr/lib/python3.11/lib-dynload', '', '/usr/local/lib/python3.11/dist-packages', '/usr/lib/python3/dist-packages', '/usr/local/lib/python3.11/dist-packages/IPython/extensions', '/usr/local/lib/python3.11/dist-packages/setuptools/_vendor', '/root/.ipython']\n"
          ]
        }
      ]
    },
    {
      "cell_type": "markdown",
      "source": [
        "When you import a module (e.g., import numpy), Python searches these directories in order. If it finds numpy in any of them, it stops searching.\n",
        "\n",
        "If you install a package that isn't found, you might need to add its directory to sys.path manually:"
      ],
      "metadata": {
        "id": "1VEs1jrzEFm3"
      }
    },
    {
      "cell_type": "code",
      "source": [
        "\n",
        "import sys\n",
        "import os\n",
        "\n",
        "numpy_found = False\n",
        "for path in sys.path:\n",
        "    if os.path.exists(os.path.join(path, \"numpy\")):\n",
        "        print(f\"Found numpy package in: {path}\")\n",
        "        numpy_found = True\n",
        "        break\n",
        "\n",
        "if not numpy_found:\n",
        "    print(\"numpy package not found in sys.path\")"
      ],
      "metadata": {
        "colab": {
          "base_uri": "https://localhost:8080/"
        },
        "id": "0Fjqj39LERsP",
        "outputId": "a97b945c-ca33-4657-b8ca-a6e15cd1065f"
      },
      "execution_count": null,
      "outputs": [
        {
          "output_type": "stream",
          "name": "stdout",
          "text": [
            "Found numpy package in: /usr/local/lib/python3.11/dist-packages\n"
          ]
        }
      ]
    },
    {
      "cell_type": "markdown",
      "source": [
        "Using `pathlib`"
      ],
      "metadata": {
        "id": "doMPVnTRE7By"
      }
    },
    {
      "cell_type": "code",
      "source": [
        "\n",
        "from pathlib import Path\n",
        "import sys\n",
        "\n",
        "numpy_found = False\n",
        "for path_str in sys.path:\n",
        "    path = Path(path_str)\n",
        "    if (path / \"numpy\").exists():\n",
        "        print(f\"Found numpy package in: {path}\")\n",
        "        numpy_found = True\n",
        "        break\n",
        "\n",
        "if not numpy_found:\n",
        "    print(\"numpy package not found in sys.path\")"
      ],
      "metadata": {
        "colab": {
          "base_uri": "https://localhost:8080/"
        },
        "id": "MZDivJjTEpNA",
        "outputId": "01e2edb2-ee21-4563-f390-913d1b897066"
      },
      "execution_count": null,
      "outputs": [
        {
          "output_type": "stream",
          "name": "stdout",
          "text": [
            "Found numpy package in: /usr/local/lib/python3.11/dist-packages\n"
          ]
        }
      ]
    },
    {
      "cell_type": "markdown",
      "source": [
        "## 4. Working with Standard Library Modules"
      ],
      "metadata": {
        "id": "E2LTjcnbFdBG"
      }
    },
    {
      "cell_type": "markdown",
      "source": [
        "\n",
        "\n",
        "### Introduction to the Standard Library\n",
        "\n",
        "Python includes a vast collection of standard library modules that provide functionality for file handling, OS interactions, date/time operations, and more. To list all available packages:\n",
        "\n",
        "```python\n",
        "help(\"modules\")\n",
        "\n",
        "```\n",
        "\n",
        "### Useful Standard Library Modules\n",
        "\n",
        "#### `os` – Interacting with the Operating System"
      ],
      "metadata": {
        "id": "WZ3J1EMVFH_W"
      }
    },
    {
      "cell_type": "code",
      "source": [
        "\n",
        "import os\n",
        "\n",
        "# Get the current working directory\n",
        "current_directory = os.getcwd()\n",
        "print(f\"Current working directory: {current_directory}\")\n",
        "\n",
        "# List files and directories in the current directory\n",
        "print(\"Files and directories in the current directory:\")\n",
        "for item in os.listdir():\n",
        "    print(item)\n",
        "\n",
        "# Create a new directory\n",
        "new_directory_name = \"my_new_directory\"\n",
        "os.makedirs(new_directory_name, exist_ok=True)  # exist_ok prevents error if dir exists\n",
        "print(f\"Created directory: {new_directory_name}\")\n",
        "\n",
        "\n"
      ],
      "metadata": {
        "colab": {
          "base_uri": "https://localhost:8080/"
        },
        "id": "geb9dof5F-Bd",
        "outputId": "b16aeaeb-1505-471b-8a92-a0649c862ea7"
      },
      "execution_count": null,
      "outputs": [
        {
          "output_type": "stream",
          "name": "stdout",
          "text": [
            "Current working directory: /content\n",
            "Files and directories in the current directory:\n",
            ".config\n",
            "sample_data\n",
            "Created directory: my_new_directory\n"
          ]
        }
      ]
    },
    {
      "cell_type": "markdown",
      "source": [
        "`pathlib` – Object-Oriented File System Handling"
      ],
      "metadata": {
        "id": "0KO6LpTBGaXd"
      }
    },
    {
      "cell_type": "code",
      "source": [
        "\n",
        "from pathlib import Path\n",
        "\n",
        "# Create a folder\n",
        "folder_path = Path(\"./my_new_folder\")\n",
        "folder_path.mkdir(exist_ok=True)\n",
        "print(folder_path)\n",
        "\n",
        "# Create a file\n",
        "file_path = folder_path / \"my_new_file.txt\"\n",
        "file_path.touch()  # Create an empty file\n",
        "\n",
        "# Write to the file\n",
        "file_path.write_text(\"This is some text in the file.\")\n",
        "\n",
        "\n",
        "# Read from the file\n",
        "file_content = file_path.read_text()\n",
        "print(f\"File content: {file_content}\")\n",
        "\n",
        "\n"
      ],
      "metadata": {
        "colab": {
          "base_uri": "https://localhost:8080/"
        },
        "id": "Z0SrmuwwGec-",
        "outputId": "c3187d77-283a-4481-951f-1274a422bdf2"
      },
      "execution_count": null,
      "outputs": [
        {
          "output_type": "stream",
          "name": "stdout",
          "text": [
            "my_new_folder\n",
            "File content: This is some text in the file.\n"
          ]
        }
      ]
    },
    {
      "cell_type": "code",
      "source": [
        "# Remove the file\n",
        "file_path.unlink() #Remove the file\n",
        "\n",
        "# Remove the folder\n",
        "folder_path.rmdir() #Remove the folder"
      ],
      "metadata": {
        "colab": {
          "base_uri": "https://localhost:8080/",
          "height": 337
        },
        "id": "xd_r_X9v306e",
        "outputId": "4cdcb855-5225-4702-ca7c-d88dc6008c9e"
      },
      "execution_count": null,
      "outputs": [
        {
          "output_type": "error",
          "ename": "FileNotFoundError",
          "evalue": "[Errno 2] No such file or directory: 'my_new_folder/my_new_file.txt'",
          "traceback": [
            "\u001b[0;31m---------------------------------------------------------------------------\u001b[0m",
            "\u001b[0;31mFileNotFoundError\u001b[0m                         Traceback (most recent call last)",
            "\u001b[0;32m<ipython-input-20-8bf0ec7713fe>\u001b[0m in \u001b[0;36m<cell line: 0>\u001b[0;34m()\u001b[0m\n\u001b[1;32m      1\u001b[0m \u001b[0;31m# Remove the file\u001b[0m\u001b[0;34m\u001b[0m\u001b[0;34m\u001b[0m\u001b[0m\n\u001b[0;32m----> 2\u001b[0;31m \u001b[0mfile_path\u001b[0m\u001b[0;34m.\u001b[0m\u001b[0munlink\u001b[0m\u001b[0;34m(\u001b[0m\u001b[0;34m)\u001b[0m \u001b[0;31m#Remove the file\u001b[0m\u001b[0;34m\u001b[0m\u001b[0;34m\u001b[0m\u001b[0m\n\u001b[0m\u001b[1;32m      3\u001b[0m \u001b[0;34m\u001b[0m\u001b[0m\n\u001b[1;32m      4\u001b[0m \u001b[0;31m# Remove the folder\u001b[0m\u001b[0;34m\u001b[0m\u001b[0;34m\u001b[0m\u001b[0m\n\u001b[1;32m      5\u001b[0m \u001b[0mfolder_path\u001b[0m\u001b[0;34m.\u001b[0m\u001b[0mrmdir\u001b[0m\u001b[0;34m(\u001b[0m\u001b[0;34m)\u001b[0m \u001b[0;31m#Remove the folder\u001b[0m\u001b[0;34m\u001b[0m\u001b[0;34m\u001b[0m\u001b[0m\n",
            "\u001b[0;32m/usr/lib/python3.11/pathlib.py\u001b[0m in \u001b[0;36munlink\u001b[0;34m(self, missing_ok)\u001b[0m\n\u001b[1;32m   1145\u001b[0m         \"\"\"\n\u001b[1;32m   1146\u001b[0m         \u001b[0;32mtry\u001b[0m\u001b[0;34m:\u001b[0m\u001b[0;34m\u001b[0m\u001b[0;34m\u001b[0m\u001b[0m\n\u001b[0;32m-> 1147\u001b[0;31m             \u001b[0mos\u001b[0m\u001b[0;34m.\u001b[0m\u001b[0munlink\u001b[0m\u001b[0;34m(\u001b[0m\u001b[0mself\u001b[0m\u001b[0;34m)\u001b[0m\u001b[0;34m\u001b[0m\u001b[0;34m\u001b[0m\u001b[0m\n\u001b[0m\u001b[1;32m   1148\u001b[0m         \u001b[0;32mexcept\u001b[0m \u001b[0mFileNotFoundError\u001b[0m\u001b[0;34m:\u001b[0m\u001b[0;34m\u001b[0m\u001b[0;34m\u001b[0m\u001b[0m\n\u001b[1;32m   1149\u001b[0m             \u001b[0;32mif\u001b[0m \u001b[0;32mnot\u001b[0m \u001b[0mmissing_ok\u001b[0m\u001b[0;34m:\u001b[0m\u001b[0;34m\u001b[0m\u001b[0;34m\u001b[0m\u001b[0m\n",
            "\u001b[0;31mFileNotFoundError\u001b[0m: [Errno 2] No such file or directory: 'my_new_folder/my_new_file.txt'"
          ]
        }
      ]
    },
    {
      "cell_type": "code",
      "source": [
        "\n",
        "\n",
        "import os\n",
        "from pathlib import Path\n",
        "\n",
        "# Create a sample directory structure for demonstration\n",
        "root_dir = Path(\"./example_dir\")\n",
        "root_dir.mkdir(exist_ok=True)\n",
        "\n",
        "(root_dir / \"subdir1\").mkdir(exist_ok=True)\n",
        "(root_dir / \"subdir2\").mkdir(exist_ok=True)\n",
        "(root_dir / \"subdir1\" / \"nested_subdir\").mkdir(exist_ok=True)\n",
        "\n",
        "(root_dir / \"file1.txt\").touch()\n",
        "(root_dir / \"subdir1\" / \"file2.txt\").touch()\n",
        "(root_dir / \"subdir2\" / \"file3.txt\").touch()\n",
        "(root_dir / \"subdir1\" / \"nested_subdir\" / \"file4.txt\").touch()\n",
        "\n",
        "\n",
        "# Traverse the directory using pathlib\n",
        "for dirpath, dirnames, filenames in os.walk(root_dir):\n",
        "    path = Path(dirpath)\n",
        "    print(f\"Current directory: {path}\")\n",
        "    for dirname in dirnames:\n",
        "      print(f\"  Directory: {dirname}\")\n",
        "    for filename in filenames:\n",
        "      print(f\"  File: {filename}\")\n",
        "\n",
        "# Clean up the created directory structure\n",
        "import shutil\n",
        "shutil.rmtree(root_dir)"
      ],
      "metadata": {
        "colab": {
          "base_uri": "https://localhost:8080/"
        },
        "id": "UCwUL4c_G2Ml",
        "outputId": "073886a8-f580-417e-829d-0c5a3683c115"
      },
      "execution_count": null,
      "outputs": [
        {
          "output_type": "stream",
          "name": "stdout",
          "text": [
            "Current directory: example_dir\n",
            "  Directory: subdir1\n",
            "  Directory: subdir2\n",
            "  File: file1.txt\n",
            "Current directory: example_dir/subdir1\n",
            "  Directory: nested_subdir\n",
            "  File: file2.txt\n",
            "Current directory: example_dir/subdir1/nested_subdir\n",
            "  File: file4.txt\n",
            "Current directory: example_dir/subdir2\n",
            "  File: file3.txt\n"
          ]
        }
      ]
    },
    {
      "cell_type": "markdown",
      "source": [
        "`shutil` – High-Level File Operations"
      ],
      "metadata": {
        "id": "IIsJFYyVHQeG"
      }
    },
    {
      "cell_type": "code",
      "source": [
        "import shutil\n",
        "from pathlib import Path\n",
        "\n",
        "# Create a destination directory\n",
        "dest_dir = Path(\"./destination_dir\")\n",
        "dest_dir.mkdir(exist_ok=True)\n",
        "# Create sample files and directories\n",
        "source_dir = Path(\"./source_dir\")\n",
        "source_dir.mkdir(exist_ok=True)\n",
        "(source_dir / \"file1.txt\").touch()\n",
        "\n",
        "\n",
        "# shutil.copy example\n",
        "shutil.copy(source_dir / \"file1.txt\", dest_dir)\n",
        "\n",
        "\n",
        "# shutil.move example\n",
        "shutil.move(dest_dir / \"file1.txt\", source_dir / \"moved_file.txt\")\n",
        "\n",
        "\n",
        "# Clean up\n",
        "shutil.rmtree(source_dir)\n",
        "if dest_dir.exists():\n",
        "  shutil.rmtree(dest_dir)"
      ],
      "metadata": {
        "id": "4gpsbzI2HSaO"
      },
      "execution_count": null,
      "outputs": []
    },
    {
      "cell_type": "markdown",
      "source": [
        "`datetime` – Working with Dates and Times"
      ],
      "metadata": {
        "id": "ENbCpGs7IAYC"
      }
    },
    {
      "cell_type": "code",
      "source": [
        "\n",
        "import datetime\n",
        "\n",
        "# Get the current date and time\n",
        "now = datetime.datetime.now()\n",
        "print(\"Current date and time:\", now)\n",
        "\n",
        "# Get the current date\n",
        "today = datetime.date.today()\n",
        "print(\"Current date:\", today)\n",
        "\n",
        "# Create a specific date\n",
        "date = datetime.date(2024, 5, 10)\n",
        "print(\"Specific date:\", date)\n",
        "\n",
        "# Create a specific time\n",
        "time = datetime.time(10, 30, 0)  # 10:30:00\n",
        "print(\"Specific time:\", time)\n",
        "\n",
        "\n",
        "# Combine date and time\n",
        "datetime_combined = datetime.datetime.combine(date, time)\n",
        "print(\"Combined date and time:\", datetime_combined)\n",
        "\n",
        "\n",
        "# Format date and time\n",
        "formatted_date = today.strftime(\"%Y-%m-%d\")  # Format as YYYY-MM-DD\n",
        "print(\"Formatted date:\", formatted_date)\n",
        "\n",
        "\n",
        "formatted_datetime = now.strftime(\"%Y-%m-%d %H:%M:%S\") # Format as YYYY-MM-DD HH:MM:SS\n",
        "print(\"Formatted datetime:\", formatted_datetime)\n",
        "\n",
        "\n",
        "# Time difference\n",
        "date1 = datetime.date(2024, 5, 10)\n",
        "date2 = datetime.date(2024, 5, 15)\n",
        "\n",
        "time_difference = date2 - date1\n",
        "print(\"Time difference:\", time_difference)\n",
        "\n",
        "# Timedelta\n",
        "timedelta_object = datetime.timedelta(days=7)\n",
        "print(\"Timedelta object:\", timedelta_object)\n",
        "\n",
        "future_date = today + timedelta_object\n",
        "print(\"Future date:\", future_date)"
      ],
      "metadata": {
        "colab": {
          "base_uri": "https://localhost:8080/"
        },
        "id": "gJFzP0Q8IC1s",
        "outputId": "fec91a84-71d1-45d2-8f48-bab8b4c93bd8"
      },
      "execution_count": null,
      "outputs": [
        {
          "output_type": "stream",
          "name": "stdout",
          "text": [
            "Current date and time: 2025-01-22 16:44:42.987622\n",
            "Current date: 2025-01-22\n",
            "Specific date: 2024-05-10\n",
            "Specific time: 10:30:00\n",
            "Combined date and time: 2024-05-10 10:30:00\n",
            "Formatted date: 2025-01-22\n",
            "Formatted datetime: 2025-01-22 16:44:42\n",
            "Time difference: 5 days, 0:00:00\n",
            "Timedelta object: 7 days, 0:00:00\n",
            "Future date: 2025-01-29\n"
          ]
        }
      ]
    },
    {
      "cell_type": "markdown",
      "source": [
        "`random` – Generating Random Data"
      ],
      "metadata": {
        "id": "BJe0GCqwIU60"
      }
    },
    {
      "cell_type": "code",
      "source": [
        "import random\n",
        "\n",
        "# Generate a random integer between 1 and 10 (inclusive)\n",
        "random_integer = random.randint(1, 10)\n",
        "print(f\"Random integer: {random_integer}\")\n",
        "\n",
        "# Generate a random floating-point number between 0 and 1 (inclusive)\n",
        "random_float = random.random()\n",
        "print(f\"Random float: {random_float}\")\n",
        "\n",
        "# Generate a random floating-point number between 2.5 and 5.5\n",
        "random_float_range = random.uniform(2.5, 5.5)\n",
        "print(f\"Random float within a range: {random_float_range}\")\n",
        "\n",
        "# Choose a random element from a sequence\n",
        "my_list = [\"apple\", \"banana\", \"cherry\"]\n",
        "random_element = random.choice(my_list)\n",
        "print(f\"Random element from a list: {random_element}\")\n",
        "\n",
        "# Shuffle a list in place\n",
        "random.shuffle(my_list)\n",
        "print(f\"Shuffled list: {my_list}\")\n",
        "\n",
        "# Sample multiple elements from a sequence without replacement\n",
        "random_sample = random.sample(my_list, 2) # Picks 2 unique elements\n",
        "print(f\"Random sample from a list: {random_sample}\")\n",
        "\n",
        "# Generate a random number from a normal distribution (Gaussian)\n",
        "# mean = 0, standard deviation = 1\n",
        "random_normal = random.gauss(0, 1)\n",
        "print(f\"Random number from a normal distribution: {random_normal}\")\n",
        "\n",
        "# Seed the random number generator for reproducibility\n",
        "random.seed(42)  # Set the seed to 42\n",
        "#print(f\"Random number with seed: {random.randint(1, 100)}\")\n",
        "\n",
        "random.seed(42) # Setting the same seed again\n",
        "#print(f\"Random number with the same seed: {random.randint(1, 100)}\")"
      ],
      "metadata": {
        "colab": {
          "base_uri": "https://localhost:8080/"
        },
        "id": "fhkFBg7NIifb",
        "outputId": "c7a4ad2c-134c-4d1f-bb5c-233de54cfc89"
      },
      "execution_count": null,
      "outputs": [
        {
          "output_type": "stream",
          "name": "stdout",
          "text": [
            "Random integer: 2\n",
            "Random float: 0.6091310056669882\n",
            "Random float within a range: 3.013415944594291\n",
            "Random element from a list: cherry\n",
            "Shuffled list: ['banana', 'cherry', 'apple']\n",
            "Random sample from a list: ['cherry', 'apple']\n",
            "Random number from a normal distribution: -1.4479809311562892\n"
          ]
        }
      ]
    },
    {
      "cell_type": "markdown",
      "source": [
        "## 5. Installing and Importing Third-Party Packages"
      ],
      "metadata": {
        "id": "BVEKpeO-Iqr7"
      }
    },
    {
      "cell_type": "markdown",
      "source": [
        "### Introduction to `pip` for Package Installation\n",
        "\n",
        "Python uses `pip` to manage third-party packages. To install a package:\n",
        "\n",
        "```\n",
        "!pip install package_name\n",
        "\n",
        "```\n",
        "\n",
        "Example: Installing and Using `requests`"
      ],
      "metadata": {
        "id": "6UKiFEqZIx1l"
      }
    },
    {
      "cell_type": "code",
      "source": [
        "!pip install requests\n"
      ],
      "metadata": {
        "colab": {
          "base_uri": "https://localhost:8080/"
        },
        "id": "1KRAqKIYI6TD",
        "outputId": "c0232a0a-45cd-4be0-a67d-0501d245a429"
      },
      "execution_count": null,
      "outputs": [
        {
          "output_type": "stream",
          "name": "stdout",
          "text": [
            "Requirement already satisfied: requests in /usr/local/lib/python3.11/dist-packages (2.32.3)\n",
            "Requirement already satisfied: charset-normalizer<4,>=2 in /usr/local/lib/python3.11/dist-packages (from requests) (3.4.1)\n",
            "Requirement already satisfied: idna<4,>=2.5 in /usr/local/lib/python3.11/dist-packages (from requests) (3.10)\n",
            "Requirement already satisfied: urllib3<3,>=1.21.1 in /usr/local/lib/python3.11/dist-packages (from requests) (2.3.0)\n",
            "Requirement already satisfied: certifi>=2017.4.17 in /usr/local/lib/python3.11/dist-packages (from requests) (2024.12.14)\n"
          ]
        }
      ]
    },
    {
      "cell_type": "code",
      "source": [
        "import requests\n",
        "response = requests.get(\"https://api.github.com\")\n",
        "print(response.status_code)\n"
      ],
      "metadata": {
        "colab": {
          "base_uri": "https://localhost:8080/"
        },
        "id": "TeM5ZPkDJChC",
        "outputId": "9ca27cac-a5a9-45ba-c42b-c71a3c34f62d"
      },
      "execution_count": null,
      "outputs": [
        {
          "output_type": "stream",
          "name": "stdout",
          "text": [
            "200\n"
          ]
        }
      ]
    },
    {
      "cell_type": "code",
      "source": [
        "print(response.text)"
      ],
      "metadata": {
        "colab": {
          "base_uri": "https://localhost:8080/"
        },
        "id": "90M0dfcQLpqx",
        "outputId": "6ed39d57-601d-4861-db57-ed54749d84ab"
      },
      "execution_count": null,
      "outputs": [
        {
          "output_type": "stream",
          "name": "stdout",
          "text": [
            "{\"current_user_url\":\"https://api.github.com/user\",\"current_user_authorizations_html_url\":\"https://github.com/settings/connections/applications{/client_id}\",\"authorizations_url\":\"https://api.github.com/authorizations\",\"code_search_url\":\"https://api.github.com/search/code?q={query}{&page,per_page,sort,order}\",\"commit_search_url\":\"https://api.github.com/search/commits?q={query}{&page,per_page,sort,order}\",\"emails_url\":\"https://api.github.com/user/emails\",\"emojis_url\":\"https://api.github.com/emojis\",\"events_url\":\"https://api.github.com/events\",\"feeds_url\":\"https://api.github.com/feeds\",\"followers_url\":\"https://api.github.com/user/followers\",\"following_url\":\"https://api.github.com/user/following{/target}\",\"gists_url\":\"https://api.github.com/gists{/gist_id}\",\"hub_url\":\"https://api.github.com/hub\",\"issue_search_url\":\"https://api.github.com/search/issues?q={query}{&page,per_page,sort,order}\",\"issues_url\":\"https://api.github.com/issues\",\"keys_url\":\"https://api.github.com/user/keys\",\"label_search_url\":\"https://api.github.com/search/labels?q={query}&repository_id={repository_id}{&page,per_page}\",\"notifications_url\":\"https://api.github.com/notifications\",\"organization_url\":\"https://api.github.com/orgs/{org}\",\"organization_repositories_url\":\"https://api.github.com/orgs/{org}/repos{?type,page,per_page,sort}\",\"organization_teams_url\":\"https://api.github.com/orgs/{org}/teams\",\"public_gists_url\":\"https://api.github.com/gists/public\",\"rate_limit_url\":\"https://api.github.com/rate_limit\",\"repository_url\":\"https://api.github.com/repos/{owner}/{repo}\",\"repository_search_url\":\"https://api.github.com/search/repositories?q={query}{&page,per_page,sort,order}\",\"current_user_repositories_url\":\"https://api.github.com/user/repos{?type,page,per_page,sort}\",\"starred_url\":\"https://api.github.com/user/starred{/owner}{/repo}\",\"starred_gists_url\":\"https://api.github.com/gists/starred\",\"topic_search_url\":\"https://api.github.com/search/topics?q={query}{&page,per_page}\",\"user_url\":\"https://api.github.com/users/{user}\",\"user_organizations_url\":\"https://api.github.com/user/orgs\",\"user_repositories_url\":\"https://api.github.com/users/{user}/repos{?type,page,per_page,sort}\",\"user_search_url\":\"https://api.github.com/search/users?q={query}{&page,per_page,sort,order}\"}\n"
          ]
        }
      ]
    },
    {
      "cell_type": "markdown",
      "source": [
        "Example: Using beautifulsoup4 for Web Scraping"
      ],
      "metadata": {
        "id": "9YGPd4CLJRCa"
      }
    },
    {
      "cell_type": "code",
      "source": [
        "!pip install beautifulsoup4"
      ],
      "metadata": {
        "colab": {
          "base_uri": "https://localhost:8080/"
        },
        "id": "1gZu8m2VJW8y",
        "outputId": "974468b6-cb61-432a-a623-f55202fe3622"
      },
      "execution_count": null,
      "outputs": [
        {
          "output_type": "stream",
          "name": "stdout",
          "text": [
            "Requirement already satisfied: beautifulsoup4 in /usr/local/lib/python3.11/dist-packages (4.12.3)\n",
            "Requirement already satisfied: soupsieve>1.2 in /usr/local/lib/python3.11/dist-packages (from beautifulsoup4) (2.6)\n"
          ]
        }
      ]
    },
    {
      "cell_type": "code",
      "source": [
        "from bs4 import BeautifulSoup\n",
        "html = \"<html><body><h1>Hello, World!</h1></body></html>\"\n",
        "soup = BeautifulSoup(html, \"html.parser\")\n",
        "print(soup.h1.text)\n"
      ],
      "metadata": {
        "colab": {
          "base_uri": "https://localhost:8080/"
        },
        "id": "rdzihPnhJcAE",
        "outputId": "098e351b-77ae-4419-f6b5-7c14351e2dc9"
      },
      "execution_count": null,
      "outputs": [
        {
          "output_type": "stream",
          "name": "stdout",
          "text": [
            "Hello, World!\n"
          ]
        }
      ]
    },
    {
      "cell_type": "markdown",
      "source": [
        "## 6. Handling Import Errors"
      ],
      "metadata": {
        "id": "Y59oPCmFMLYq"
      }
    },
    {
      "cell_type": "markdown",
      "source": [
        "\n",
        "\n",
        "### Common Import Errors and Troubleshooting\n",
        "\n",
        "#### `ModuleNotFoundError`\n",
        "\n",
        "Occurs when the specified module is not installed.\n",
        "\n",
        "```python\n",
        "try:\n",
        "    import non_existent_module\n",
        "except ModuleNotFoundError:\n",
        "    print(\"Module not found. Install it using pip.\")\n",
        "\n",
        "```\n",
        "\n",
        "#### `ImportError`\n",
        "\n",
        "Occurs when Python finds the module but encounters an issue while importing it.\n",
        "\n",
        "```python\n",
        "try:\n",
        "    from math import nonexistent_function\n",
        "except ImportError:\n",
        "    print(\"Function not found in the module.\")\n",
        "\n",
        "```\n",
        "\n",
        "### Checking Installed Packages Using `pip list`"
      ],
      "metadata": {
        "id": "3QAAVk9MME-H"
      }
    },
    {
      "cell_type": "code",
      "source": [
        "!pip list"
      ],
      "metadata": {
        "colab": {
          "base_uri": "https://localhost:8080/"
        },
        "collapsed": true,
        "id": "zfK1sy3Nn8T-",
        "outputId": "5b8b339b-0330-40df-a17f-efdbd2b29315"
      },
      "execution_count": null,
      "outputs": [
        {
          "output_type": "stream",
          "name": "stdout",
          "text": [
            "Package                            Version\n",
            "---------------------------------- ------------------\n",
            "absl-py                            1.4.0\n",
            "accelerate                         1.2.1\n",
            "aiohappyeyeballs                   2.4.4\n",
            "aiohttp                            3.11.11\n",
            "aiosignal                          1.3.2\n",
            "alabaster                          1.0.0\n",
            "albucore                           0.0.19\n",
            "albumentations                     1.4.20\n",
            "altair                             5.5.0\n",
            "annotated-types                    0.7.0\n",
            "anyio                              3.7.1\n",
            "argon2-cffi                        23.1.0\n",
            "argon2-cffi-bindings               21.2.0\n",
            "array_record                       0.6.0\n",
            "arviz                              0.20.0\n",
            "astropy                            6.1.7\n",
            "astropy-iers-data                  0.2025.1.6.0.33.42\n",
            "astunparse                         1.6.3\n",
            "atpublic                           4.1.0\n",
            "attrs                              24.3.0\n",
            "audioread                          3.0.1\n",
            "autograd                           1.7.0\n",
            "babel                              2.16.0\n",
            "backcall                           0.2.0\n",
            "beautifulsoup4                     4.12.3\n",
            "bigframes                          1.31.0\n",
            "bigquery-magics                    0.5.0\n",
            "bleach                             6.2.0\n",
            "blinker                            1.9.0\n",
            "blis                               0.7.11\n",
            "blosc2                             3.0.0\n",
            "bokeh                              3.6.2\n",
            "Bottleneck                         1.4.2\n",
            "bqplot                             0.12.44\n",
            "branca                             0.8.1\n",
            "CacheControl                       0.14.2\n",
            "cachetools                         5.5.0\n",
            "catalogue                          2.0.10\n",
            "certifi                            2024.12.14\n",
            "cffi                               1.17.1\n",
            "chardet                            5.2.0\n",
            "charset-normalizer                 3.4.1\n",
            "chex                               0.1.88\n",
            "clarabel                           0.9.0\n",
            "click                              8.1.8\n",
            "cloudpathlib                       0.20.0\n",
            "cloudpickle                        3.1.0\n",
            "cmake                              3.31.2\n",
            "cmdstanpy                          1.2.5\n",
            "colorcet                           3.1.0\n",
            "colorlover                         0.3.0\n",
            "colour                             0.1.5\n",
            "community                          1.0.0b1\n",
            "confection                         0.1.5\n",
            "cons                               0.4.6\n",
            "contourpy                          1.3.1\n",
            "cryptography                       43.0.3\n",
            "cuda-python                        12.2.1\n",
            "cudf-cu12                          24.10.1\n",
            "cufflinks                          0.17.3\n",
            "cupy-cuda12x                       12.2.0\n",
            "cvxopt                             1.3.2\n",
            "cvxpy                              1.6.0\n",
            "cycler                             0.12.1\n",
            "cymem                              2.0.10\n",
            "Cython                             3.0.11\n",
            "dask                               2024.10.0\n",
            "datascience                        0.17.6\n",
            "db-dtypes                          1.3.1\n",
            "dbus-python                        1.2.18\n",
            "debugpy                            1.8.0\n",
            "decorator                          4.4.2\n",
            "defusedxml                         0.7.1\n",
            "Deprecated                         1.2.15\n",
            "diffusers                          0.32.1\n",
            "distro                             1.9.0\n",
            "dlib                               19.24.2\n",
            "dm-tree                            0.1.8\n",
            "docker-pycreds                     0.4.0\n",
            "docstring_parser                   0.16\n",
            "docutils                           0.21.2\n",
            "dopamine_rl                        4.1.0\n",
            "duckdb                             1.1.3\n",
            "earthengine-api                    1.4.4\n",
            "easydict                           1.13\n",
            "editdistance                       0.8.1\n",
            "eerepr                             0.0.4\n",
            "einops                             0.8.0\n",
            "en-core-web-sm                     3.7.1\n",
            "entrypoints                        0.4\n",
            "et_xmlfile                         2.0.0\n",
            "etils                              1.11.0\n",
            "etuples                            0.3.9\n",
            "eval_type_backport                 0.2.2\n",
            "fastai                             2.7.18\n",
            "fastcore                           1.7.28\n",
            "fastdownload                       0.0.7\n",
            "fastjsonschema                     2.21.1\n",
            "fastprogress                       1.0.3\n",
            "fastrlock                          0.8.3\n",
            "filelock                           3.16.1\n",
            "firebase-admin                     6.6.0\n",
            "Flask                              3.1.0\n",
            "flatbuffers                        24.12.23\n",
            "flax                               0.10.2\n",
            "folium                             0.19.4\n",
            "fonttools                          4.55.3\n",
            "frozendict                         2.4.6\n",
            "frozenlist                         1.5.0\n",
            "fsspec                             2024.10.0\n",
            "future                             1.0.0\n",
            "gast                               0.6.0\n",
            "gcsfs                              2024.10.0\n",
            "GDAL                               3.6.4\n",
            "gdown                              5.2.0\n",
            "geemap                             0.35.1\n",
            "gensim                             4.3.3\n",
            "geocoder                           1.38.1\n",
            "geographiclib                      2.0\n",
            "geopandas                          1.0.1\n",
            "geopy                              2.4.1\n",
            "gin-config                         0.5.0\n",
            "gitdb                              4.0.12\n",
            "GitPython                          3.1.44\n",
            "glob2                              0.7\n",
            "google                             2.0.3\n",
            "google-ai-generativelanguage       0.6.10\n",
            "google-api-core                    2.19.2\n",
            "google-api-python-client           2.155.0\n",
            "google-auth                        2.27.0\n",
            "google-auth-httplib2               0.2.0\n",
            "google-auth-oauthlib               1.2.1\n",
            "google-cloud-aiplatform            1.74.0\n",
            "google-cloud-bigquery              3.25.0\n",
            "google-cloud-bigquery-connection   1.17.0\n",
            "google-cloud-bigquery-storage      2.27.0\n",
            "google-cloud-bigtable              2.28.0\n",
            "google-cloud-core                  2.4.1\n",
            "google-cloud-datastore             2.20.2\n",
            "google-cloud-firestore             2.19.0\n",
            "google-cloud-functions             1.19.0\n",
            "google-cloud-iam                   2.17.0\n",
            "google-cloud-language              2.16.0\n",
            "google-cloud-pubsub                2.27.2\n",
            "google-cloud-resource-manager      1.14.0\n",
            "google-cloud-storage               2.19.0\n",
            "google-cloud-translate             3.19.0\n",
            "google-colab                       1.0.0\n",
            "google-crc32c                      1.6.0\n",
            "google-genai                       0.3.0\n",
            "google-generativeai                0.8.3\n",
            "google-pasta                       0.2.0\n",
            "google-resumable-media             2.7.2\n",
            "googleapis-common-protos           1.66.0\n",
            "googledrivedownloader              0.4\n",
            "graphviz                           0.20.3\n",
            "greenlet                           3.1.1\n",
            "grpc-google-iam-v1                 0.14.0\n",
            "grpcio                             1.69.0\n",
            "grpcio-status                      1.62.3\n",
            "gspread                            6.1.4\n",
            "gspread-dataframe                  4.0.0\n",
            "gym                                0.25.2\n",
            "gym-notices                        0.0.8\n",
            "h11                                0.14.0\n",
            "h5netcdf                           1.4.1\n",
            "h5py                               3.12.1\n",
            "holidays                           0.64\n",
            "holoviews                          1.20.0\n",
            "html5lib                           1.1\n",
            "httpcore                           1.0.7\n",
            "httpimport                         1.4.0\n",
            "httplib2                           0.22.0\n",
            "httpx                              0.28.1\n",
            "huggingface-hub                    0.27.1\n",
            "humanize                           4.11.0\n",
            "hyperopt                           0.2.7\n",
            "ibis-framework                     9.2.0\n",
            "idna                               3.10\n",
            "imageio                            2.36.1\n",
            "imageio-ffmpeg                     0.5.1\n",
            "imagesize                          1.4.1\n",
            "imbalanced-learn                   0.13.0\n",
            "imgaug                             0.4.0\n",
            "immutabledict                      4.2.1\n",
            "importlib_metadata                 8.5.0\n",
            "importlib_resources                6.5.2\n",
            "imutils                            0.5.4\n",
            "inflect                            7.5.0\n",
            "iniconfig                          2.0.0\n",
            "intel-cmplr-lib-ur                 2025.0.4\n",
            "intel-openmp                       2025.0.4\n",
            "ipyevents                          2.0.2\n",
            "ipyfilechooser                     0.6.0\n",
            "ipykernel                          5.5.6\n",
            "ipyleaflet                         0.19.2\n",
            "ipyparallel                        8.8.0\n",
            "ipython                            7.34.0\n",
            "ipython-genutils                   0.2.0\n",
            "ipython-sql                        0.5.0\n",
            "ipytree                            0.2.2\n",
            "ipywidgets                         7.7.1\n",
            "itsdangerous                       2.2.0\n",
            "jax                                0.4.33\n",
            "jax-cuda12-pjrt                    0.4.33\n",
            "jax-cuda12-plugin                  0.4.33\n",
            "jaxlib                             0.4.33\n",
            "jeepney                            0.7.1\n",
            "jellyfish                          1.1.0\n",
            "jieba                              0.42.1\n",
            "Jinja2                             3.1.5\n",
            "jiter                              0.8.2\n",
            "joblib                             1.4.2\n",
            "jsonpatch                          1.33\n",
            "jsonpickle                         4.0.1\n",
            "jsonpointer                        3.0.0\n",
            "jsonschema                         4.23.0\n",
            "jsonschema-specifications          2024.10.1\n",
            "jupyter-client                     6.1.12\n",
            "jupyter-console                    6.1.0\n",
            "jupyter_core                       5.7.2\n",
            "jupyter-leaflet                    0.19.2\n",
            "jupyter-server                     1.24.0\n",
            "jupyterlab_pygments                0.3.0\n",
            "jupyterlab_widgets                 3.0.13\n",
            "kaggle                             1.6.17\n",
            "kagglehub                          0.3.6\n",
            "keras                              3.5.0\n",
            "keyring                            23.5.0\n",
            "kiwisolver                         1.4.8\n",
            "langchain                          0.3.14\n",
            "langchain-core                     0.3.29\n",
            "langchain-text-splitters           0.3.5\n",
            "langcodes                          3.5.0\n",
            "langsmith                          0.2.10\n",
            "language_data                      1.3.0\n",
            "launchpadlib                       1.10.16\n",
            "lazr.restfulclient                 0.14.4\n",
            "lazr.uri                           1.0.6\n",
            "lazy_loader                        0.4\n",
            "libclang                           18.1.1\n",
            "libcudf-cu12                       24.10.1\n",
            "librosa                            0.10.2.post1\n",
            "lightgbm                           4.5.0\n",
            "linkify-it-py                      2.0.3\n",
            "llvmlite                           0.43.0\n",
            "locket                             1.0.0\n",
            "logical-unification                0.4.6\n",
            "lxml                               5.3.0\n",
            "marisa-trie                        1.2.1\n",
            "Markdown                           3.7\n",
            "markdown-it-py                     3.0.0\n",
            "MarkupSafe                         3.0.2\n",
            "matplotlib                         3.10.0\n",
            "matplotlib-inline                  0.1.7\n",
            "matplotlib-venn                    1.1.1\n",
            "mdit-py-plugins                    0.4.2\n",
            "mdurl                              0.1.2\n",
            "miniKanren                         1.0.3\n",
            "missingno                          0.5.2\n",
            "mistune                            3.1.0\n",
            "mizani                             0.13.1\n",
            "mkl                                2025.0.1\n",
            "ml-dtypes                          0.4.1\n",
            "mlxtend                            0.23.3\n",
            "more-itertools                     10.5.0\n",
            "moviepy                            1.0.3\n",
            "mpmath                             1.3.0\n",
            "msgpack                            1.1.0\n",
            "multidict                          6.1.0\n",
            "multipledispatch                   1.0.0\n",
            "multitasking                       0.0.11\n",
            "murmurhash                         1.0.11\n",
            "music21                            9.3.0\n",
            "namex                              0.0.8\n",
            "narwhals                           1.21.1\n",
            "natsort                            8.4.0\n",
            "nbclassic                          1.1.0\n",
            "nbclient                           0.10.2\n",
            "nbconvert                          7.16.5\n",
            "nbformat                           5.10.4\n",
            "ndindex                            1.9.2\n",
            "nest-asyncio                       1.6.0\n",
            "networkx                           3.4.2\n",
            "nibabel                            5.3.2\n",
            "nltk                               3.9.1\n",
            "notebook                           6.5.5\n",
            "notebook_shim                      0.2.4\n",
            "numba                              0.60.0\n",
            "numexpr                            2.10.2\n",
            "numpy                              1.26.4\n",
            "nvidia-cublas-cu12                 12.1.3.1\n",
            "nvidia-cuda-cupti-cu12             12.1.105\n",
            "nvidia-cuda-nvcc-cu12              12.6.85\n",
            "nvidia-cuda-nvrtc-cu12             12.1.105\n",
            "nvidia-cuda-runtime-cu12           12.1.105\n",
            "nvidia-cudnn-cu12                  9.1.0.70\n",
            "nvidia-cufft-cu12                  11.0.2.54\n",
            "nvidia-curand-cu12                 10.3.2.106\n",
            "nvidia-cusolver-cu12               11.4.5.107\n",
            "nvidia-cusparse-cu12               12.1.0.106\n",
            "nvidia-nccl-cu12                   2.21.5\n",
            "nvidia-nvjitlink-cu12              12.6.85\n",
            "nvidia-nvtx-cu12                   12.1.105\n",
            "nvtx                               0.2.10\n",
            "nx-cugraph-cu12                    24.10.0\n",
            "oauth2client                       4.1.3\n",
            "oauthlib                           3.2.2\n",
            "openai                             1.59.6\n",
            "opencv-contrib-python              4.10.0.84\n",
            "opencv-python                      4.10.0.84\n",
            "opencv-python-headless             4.10.0.84\n",
            "openpyxl                           3.1.5\n",
            "opentelemetry-api                  1.29.0\n",
            "opentelemetry-sdk                  1.29.0\n",
            "opentelemetry-semantic-conventions 0.50b0\n",
            "opt_einsum                         3.4.0\n",
            "optax                              0.2.4\n",
            "optree                             0.13.1\n",
            "orbax-checkpoint                   0.6.4\n",
            "orjson                             3.10.14\n",
            "osqp                               0.6.7.post3\n",
            "packaging                          24.2\n",
            "pandas                             2.2.2\n",
            "pandas-datareader                  0.10.0\n",
            "pandas-gbq                         0.26.1\n",
            "pandas-stubs                       2.2.2.240909\n",
            "pandocfilters                      1.5.1\n",
            "panel                              1.5.5\n",
            "param                              2.2.0\n",
            "parso                              0.8.4\n",
            "parsy                              2.1\n",
            "partd                              1.4.2\n",
            "pathlib                            1.0.1\n",
            "patsy                              1.0.1\n",
            "peewee                             3.17.8\n",
            "peft                               0.14.0\n",
            "pexpect                            4.9.0\n",
            "pickleshare                        0.7.5\n",
            "pillow                             11.1.0\n",
            "pip                                24.1.2\n",
            "platformdirs                       4.3.6\n",
            "plotly                             5.24.1\n",
            "plotnine                           0.14.5\n",
            "pluggy                             1.5.0\n",
            "ply                                3.11\n",
            "polars                             1.9.0\n",
            "pooch                              1.8.2\n",
            "portpicker                         1.5.2\n",
            "preshed                            3.0.9\n",
            "prettytable                        3.12.0\n",
            "proglog                            0.1.10\n",
            "progressbar2                       4.5.0\n",
            "prometheus_client                  0.21.1\n",
            "promise                            2.3\n",
            "prompt_toolkit                     3.0.48\n",
            "propcache                          0.2.1\n",
            "prophet                            1.1.6\n",
            "proto-plus                         1.25.0\n",
            "protobuf                           4.25.5\n",
            "psutil                             5.9.5\n",
            "psycopg2                           2.9.10\n",
            "ptyprocess                         0.7.0\n",
            "py-cpuinfo                         9.0.0\n",
            "py4j                               0.10.9.7\n",
            "pyarrow                            17.0.0\n",
            "pyasn1                             0.6.1\n",
            "pyasn1_modules                     0.4.1\n",
            "pycocotools                        2.0.8\n",
            "pycparser                          2.22\n",
            "pydantic                           2.10.5\n",
            "pydantic_core                      2.27.2\n",
            "pydata-google-auth                 1.9.0\n",
            "pydot                              3.0.4\n",
            "pydotplus                          2.0.2\n",
            "PyDrive                            1.3.1\n",
            "PyDrive2                           1.21.3\n",
            "pyerfa                             2.0.1.5\n",
            "pygame                             2.6.1\n",
            "pygit2                             1.16.0\n",
            "Pygments                           2.18.0\n",
            "PyGObject                          3.42.1\n",
            "PyJWT                              2.10.1\n",
            "pylibcudf-cu12                     24.10.1\n",
            "pylibcugraph-cu12                  24.10.0\n",
            "pylibraft-cu12                     24.10.0\n",
            "pymc                               5.19.1\n",
            "pymystem3                          0.2.0\n",
            "pynvjitlink-cu12                   0.4.0\n",
            "pyogrio                            0.10.0\n",
            "Pyomo                              6.8.2\n",
            "PyOpenGL                           3.1.7\n",
            "pyOpenSSL                          24.2.1\n",
            "pyparsing                          3.2.1\n",
            "pyperclip                          1.9.0\n",
            "pyproj                             3.7.0\n",
            "pyshp                              2.3.1\n",
            "PySocks                            1.7.1\n",
            "pyspark                            3.5.4\n",
            "pytensor                           2.26.4\n",
            "pytest                             8.3.4\n",
            "python-apt                         0.0.0\n",
            "python-box                         7.3.0\n",
            "python-dateutil                    2.8.2\n",
            "python-louvain                     0.16\n",
            "python-slugify                     8.0.4\n",
            "python-utils                       3.9.1\n",
            "pytz                               2024.2\n",
            "pyviz_comms                        3.0.3\n",
            "PyYAML                             6.0.2\n",
            "pyzmq                              24.0.1\n",
            "qdldl                              0.1.7.post5\n",
            "ratelim                            0.1.6\n",
            "referencing                        0.35.1\n",
            "regex                              2024.11.6\n",
            "requests                           2.32.3\n",
            "requests-oauthlib                  1.3.1\n",
            "requests-toolbelt                  1.0.0\n",
            "requirements-parser                0.9.0\n",
            "rich                               13.9.4\n",
            "rmm-cu12                           24.10.0\n",
            "rpds-py                            0.22.3\n",
            "rpy2                               3.4.2\n",
            "rsa                                4.9\n",
            "safetensors                        0.5.2\n",
            "scikit-image                       0.25.0\n",
            "scikit-learn                       1.6.0\n",
            "scipy                              1.13.1\n",
            "scooby                             0.10.0\n",
            "scs                                3.2.7.post2\n",
            "seaborn                            0.13.2\n",
            "SecretStorage                      3.3.1\n",
            "Send2Trash                         1.8.3\n",
            "sentence-transformers              3.3.1\n",
            "sentencepiece                      0.2.0\n",
            "sentry-sdk                         2.19.2\n",
            "setproctitle                       1.3.4\n",
            "setuptools                         75.1.0\n",
            "shap                               0.46.0\n",
            "shapely                            2.0.6\n",
            "shellingham                        1.5.4\n",
            "simple-parsing                     0.1.6\n",
            "six                                1.17.0\n",
            "sklearn-compat                     0.1.3\n",
            "sklearn-pandas                     2.2.0\n",
            "slicer                             0.0.8\n",
            "smart-open                         7.1.0\n",
            "smmap                              5.0.2\n",
            "sniffio                            1.3.1\n",
            "snowballstemmer                    2.2.0\n",
            "soundfile                          0.13.0\n",
            "soupsieve                          2.6\n",
            "soxr                               0.5.0.post1\n",
            "spacy                              3.7.5\n",
            "spacy-legacy                       3.0.12\n",
            "spacy-loggers                      1.0.5\n",
            "Sphinx                             8.1.3\n",
            "sphinxcontrib-applehelp            2.0.0\n",
            "sphinxcontrib-devhelp              2.0.0\n",
            "sphinxcontrib-htmlhelp             2.1.0\n",
            "sphinxcontrib-jsmath               1.0.1\n",
            "sphinxcontrib-qthelp               2.0.0\n",
            "sphinxcontrib-serializinghtml      2.0.0\n",
            "SQLAlchemy                         2.0.37\n",
            "sqlglot                            25.1.0\n",
            "sqlparse                           0.5.3\n",
            "srsly                              2.5.0\n",
            "stanio                             0.5.1\n",
            "statsmodels                        0.14.4\n",
            "stringzilla                        3.11.3\n",
            "sympy                              1.13.1\n",
            "tables                             3.10.2\n",
            "tabulate                           0.9.0\n",
            "tbb                                2022.0.0\n",
            "tcmlib                             1.2.0\n",
            "tenacity                           9.0.0\n",
            "tensorboard                        2.17.1\n",
            "tensorboard-data-server            0.7.2\n",
            "tensorflow                         2.17.1\n",
            "tensorflow-datasets                4.9.7\n",
            "tensorflow-hub                     0.16.1\n",
            "tensorflow-io-gcs-filesystem       0.37.1\n",
            "tensorflow-metadata                1.16.1\n",
            "tensorflow-probability             0.24.0\n",
            "tensorstore                        0.1.71\n",
            "termcolor                          2.5.0\n",
            "terminado                          0.18.1\n",
            "text-unidecode                     1.3\n",
            "textblob                           0.17.1\n",
            "tf_keras                           2.17.0\n",
            "tf-slim                            1.1.0\n",
            "thinc                              8.2.5\n",
            "threadpoolctl                      3.5.0\n",
            "tifffile                           2024.12.12\n",
            "timm                               1.0.13\n",
            "tinycss2                           1.4.0\n",
            "tokenizers                         0.21.0\n",
            "toml                               0.10.2\n",
            "toolz                              0.12.1\n",
            "torch                              2.5.1+cu121\n",
            "torchaudio                         2.5.1+cu121\n",
            "torchsummary                       1.5.1\n",
            "torchvision                        0.20.1+cu121\n",
            "tornado                            6.3.3\n",
            "tqdm                               4.67.1\n",
            "traitlets                          5.7.1\n",
            "traittypes                         0.2.1\n",
            "transformers                       4.47.1\n",
            "triton                             3.1.0\n",
            "tweepy                             4.14.0\n",
            "typeguard                          4.4.1\n",
            "typer                              0.15.1\n",
            "types-pytz                         2024.2.0.20241221\n",
            "types-setuptools                   75.8.0.20250110\n",
            "typing_extensions                  4.12.2\n",
            "tzdata                             2024.2\n",
            "tzlocal                            5.2\n",
            "uc-micro-py                        1.0.3\n",
            "umf                                0.9.1\n",
            "uritemplate                        4.1.1\n",
            "urllib3                            2.3.0\n",
            "vega-datasets                      0.9.0\n",
            "wadllib                            1.3.6\n",
            "wandb                              0.19.2\n",
            "wasabi                             1.1.3\n",
            "wcwidth                            0.2.13\n",
            "weasel                             0.4.1\n",
            "webcolors                          24.11.1\n",
            "webencodings                       0.5.1\n",
            "websocket-client                   1.8.0\n",
            "websockets                         14.1\n",
            "Werkzeug                           3.1.3\n",
            "wheel                              0.45.1\n",
            "widgetsnbextension                 3.6.10\n",
            "wordcloud                          1.9.4\n",
            "wrapt                              1.17.0\n",
            "xarray                             2025.1.1\n",
            "xarray-einstats                    0.8.0\n",
            "xgboost                            2.1.3\n",
            "xlrd                               2.0.1\n",
            "xyzservices                        2024.9.0\n",
            "yarl                               1.18.3\n",
            "yellowbrick                        1.5\n",
            "yfinance                           0.2.51\n",
            "zipp                               3.21.0\n"
          ]
        }
      ]
    },
    {
      "cell_type": "markdown",
      "source": [
        "## 7. Best Practices for Importing in Python and conclusion"
      ],
      "metadata": {
        "id": "SGGVTsy1MV33"
      }
    },
    {
      "cell_type": "markdown",
      "source": [
        "### Avoiding Wildcard Imports\n",
        "\n",
        "Avoid:\n",
        "\n",
        "```python\n",
        "from math import *\n",
        "\n",
        "```\n",
        "\n",
        "Instead, explicitly import required functions:\n",
        "\n",
        "```python\n",
        "from math import sqrt, pi\n",
        "\n",
        "```\n",
        "\n",
        "### Conclusion\n",
        "\n",
        "Understanding how to import modules in Python is fundamental to writing efficient and maintainable code. By following best practices, leveraging the standard library, and efficiently managing third-party packages, developers can optimize their workflow and build robust applications."
      ],
      "metadata": {
        "id": "rLosTP1XMfjf"
      }
    },
    {
      "cell_type": "markdown",
      "source": [
        "## 8. EXTRA: Introduction to PyPI (Python Package Index)"
      ],
      "metadata": {
        "id": "LXF6gbsCWuAe"
      }
    },
    {
      "cell_type": "markdown",
      "source": [
        "The **Python Package Index (PyPI)** is the official repository for Python packages. It is a centralized platform where developers can **publish, distribute, and install Python libraries and frameworks**. PyPI allows Python developers to **share their code** with the community, making it easier to integrate third-party packages into projects.\n",
        "\n",
        "### **Key Features of PyPI**\n",
        "\n",
        "1. **Hosting and Distribution** – PyPI provides a platform for developers to upload their Python packages, making them accessible to other developers.\n",
        "2. **Package Management with `pip`** – Python’s package manager, `pip`, allows users to easily install and manage packages from PyPI.\n",
        "3. **Dependency Management** – PyPI helps manage package dependencies, ensuring that projects have all the required libraries.\n",
        "4. **Versioning** – Developers can upload different versions of their packages, allowing users to install specific versions.\n",
        "5. **Metadata and Documentation** – PyPI provides metadata about each package, such as its description, author, license, and dependencies."
      ],
      "metadata": {
        "id": "UUI5I19SWsgl"
      }
    },
    {
      "cell_type": "markdown",
      "source": [
        "### **Uploading a Package to PyPI**\n",
        "\n",
        "Developers can publish their own Python packages using tools like `twine`:\n",
        "\n",
        "```bash\n",
        "\n",
        "pip install twine\n",
        "python setup.py sdist\n",
        "twine upload dist/*\n",
        "\n",
        "```\n",
        "\n",
        "### **PyPI Alternatives**\n",
        "\n",
        "- **Conda** (for data science and scientific computing)\n",
        "- **Custom Package Repositories** (e.g., private PyPI servers)\n",
        "\n",
        "### **Conclusion**\n",
        "\n",
        "PyPI is a **crucial tool in the Python ecosystem**, allowing developers to share and access a vast collection of open-source libraries. Whether you are a beginner or an experienced developer, PyPI simplifies package management, making software development more efficient."
      ],
      "metadata": {
        "id": "QJNap3VHXYpv"
      }
    }
  ]
}